{
 "cells": [
  {
   "cell_type": "markdown",
   "metadata": {},
   "source": [
    "# DS 3000 HW 7\n",
    "\n",
    "Due: Fri Apr 8 @ 11:59 PM EST\n",
    "\n",
    "### Submission Instructions\n",
    "Submit this `ipynb` file to [gradescope](https://www.gradescope.com/courses/337250).  To ensure that your submitted `ipynb` file represents your latest code, make sure to give a fresh `Kernel > Restart & Run All` just before uploading the `ipynb` file to gradescope.\n",
    "\n",
    "### Tips for success\n",
    "- Start early\n",
    "- Make use of [Piazza](https://course.ccs.neu.edu/ds3000/admin.html#piazza-discussion-forum)\n",
    "- Make use of [Office Hours](https://course.ccs.neu.edu/ds3000/office_hours.html)\n",
    "- Remember that [Documentation / style counts for credit](https://course.ccs.neu.edu/ds3000/style_guide.html)\n",
    "- Under no circumstances may one student view or share their ungraded homework or quiz with another student [(see also)](https://course.ccs.neu.edu/ds3000/syllabus.html#academic-integrity-and-conduct)\n",
    "\n",
    "<p style=\"color:blue;\">Note that this HW has 75 total points to reflect the fact that its a bit shorter than others.  It will be weighed .75 as much as a 100 point HW.</p>"
   ]
  },
  {
   "cell_type": "markdown",
   "metadata": {},
   "source": [
    "# What contributes to property prices in the Boston area?\n",
    "\n",
    "We're going to analyze a dataset that contains nearly 1000 different condos and houses currently available for sale in the Boston area. Based on the features of a place and it's location we will try to predict its price."
   ]
  },
  {
   "cell_type": "code",
   "execution_count": 1,
   "metadata": {},
   "outputs": [
    {
     "data": {
      "text/html": [
       "<div>\n",
       "<style scoped>\n",
       "    .dataframe tbody tr th:only-of-type {\n",
       "        vertical-align: middle;\n",
       "    }\n",
       "\n",
       "    .dataframe tbody tr th {\n",
       "        vertical-align: top;\n",
       "    }\n",
       "\n",
       "    .dataframe thead th {\n",
       "        text-align: right;\n",
       "    }\n",
       "</style>\n",
       "<table border=\"1\" class=\"dataframe\">\n",
       "  <thead>\n",
       "    <tr style=\"text-align: right;\">\n",
       "      <th></th>\n",
       "      <th>beds</th>\n",
       "      <th>baths</th>\n",
       "      <th>area</th>\n",
       "      <th>distance</th>\n",
       "      <th>price</th>\n",
       "      <th>price_bucket</th>\n",
       "    </tr>\n",
       "  </thead>\n",
       "  <tbody>\n",
       "    <tr>\n",
       "      <th>0</th>\n",
       "      <td>3.0</td>\n",
       "      <td>2.0</td>\n",
       "      <td>2584.0</td>\n",
       "      <td>18.726140</td>\n",
       "      <td>1100000.0</td>\n",
       "      <td>price &gt;= 900k</td>\n",
       "    </tr>\n",
       "    <tr>\n",
       "      <th>1</th>\n",
       "      <td>1.0</td>\n",
       "      <td>1.0</td>\n",
       "      <td>650.0</td>\n",
       "      <td>1.053808</td>\n",
       "      <td>699000.0</td>\n",
       "      <td>600k &lt;= price &lt; 900k</td>\n",
       "    </tr>\n",
       "  </tbody>\n",
       "</table>\n",
       "</div>"
      ],
      "text/plain": [
       "   beds  baths    area   distance      price          price_bucket\n",
       "0   3.0    2.0  2584.0  18.726140  1100000.0         price >= 900k\n",
       "1   1.0    1.0   650.0   1.053808   699000.0  600k <= price < 900k"
      ]
     },
     "execution_count": 1,
     "metadata": {},
     "output_type": "execute_result"
    }
   ],
   "source": [
    "import pandas as pd\n",
    "\n",
    "df_pro = pd.read_csv('boston_houses.csv', index_col=None)\n",
    "\n",
    "df_pro.head(2)"
   ]
  },
  {
   "cell_type": "markdown",
   "metadata": {},
   "source": [
    "We will try to predict `price`.  To do so, we'll examine:\n",
    "- number of bedrooms: `beds`\n",
    "- number of bathrooms: `baths`\n",
    "- area in sq feet: `area`\n",
    "- distance in km from the Boston Common: `distance`\n",
    "\n",
    "We will use the following ML models:\n",
    "- Decision Trees\n",
    "- Random Forest Classifiers\n",
    "- Random Forest Regressors\n",
    "\n",
    "And interpret their parameters (Feature Importances in the Random Forest models) to try to understand which features are helpful in predicting price.  "
   ]
  },
  {
   "cell_type": "markdown",
   "metadata": {},
   "source": [
    "## Part 1: Decision Tree (20 points)\n",
    "Decision Trees and Random Forests Classifiers, by virtue of being classifiers, estimate a categorical variable.  Our target variable is `price`, which we can approximated by binning, as has been done in `price_bucket`:"
   ]
  },
  {
   "cell_type": "code",
   "execution_count": 2,
   "metadata": {},
   "outputs": [
    {
     "data": {
      "text/plain": [
       "price < 600k            321\n",
       "price >= 900k           320\n",
       "600k <= price < 900k    313\n",
       "Name: price_bucket, dtype: int64"
      ]
     },
     "execution_count": 2,
     "metadata": {},
     "output_type": "execute_result"
    }
   ],
   "source": [
    "df_pro['price_bucket'].value_counts()"
   ]
  },
  {
   "cell_type": "markdown",
   "metadata": {},
   "source": [
    "1. Build a Decision Tree with `max_depth=2` which estimates the `price_bucket` of housing using \n",
    "    - beds\n",
    "    - baths\n",
    "    - area\n",
    "    - distance\n",
    "1. Plot the tree using `plot_tree()`.  To help the visualize be easily understood:\n",
    "    - initialize a figure before calling `plot_tree()` which is `(12, 5)` inches\n",
    "        - see class notes for example of this syntax\n",
    "    - utlize the `class_names` input to `plot_tree()` which shows the most common class among the `values` shown\n",
    "1. Validate your tree by identifying one intuitive behavior which it replicates (e.g. larger houses tend to be more expensive)\n",
    "    - Remember the convention for reading the tree:\n",
    "        - yes -> left\n",
    "        - no -> right\n",
    "    - The order of counts in each node's \"value\" is according to first appearance in the y list \n",
    "        - same as output of `np.unique()` below    \n",
    "    - Please write your response in a markdown cell just below the tree itself\n"
   ]
  },
  {
   "cell_type": "code",
   "execution_count": 3,
   "metadata": {},
   "outputs": [
    {
     "data": {
      "text/plain": [
       "array(['600k <= price < 900k', 'price < 600k', 'price >= 900k'],\n",
       "      dtype=object)"
      ]
     },
     "execution_count": 3,
     "metadata": {},
     "output_type": "execute_result"
    }
   ],
   "source": [
    "import numpy as np\n",
    "np.unique(df_pro['price_bucket'])"
   ]
  },
  {
   "cell_type": "code",
   "execution_count": 4,
   "metadata": {},
   "outputs": [],
   "source": [
    "import matplotlib.pyplot as plt\n",
    "import numpy as np\n",
    "import seaborn as sns\n",
    "\n",
    "from sklearn import tree\n",
    "from sklearn.tree import DecisionTreeClassifier, plot_tree\n",
    "from sklearn.ensemble import RandomForestClassifier\n",
    "from sklearn.model_selection import StratifiedKFold\n",
    "from sklearn.metrics import confusion_matrix, ConfusionMatrixDisplay, r2_score\n",
    "from sklearn.linear_model import LinearRegression"
   ]
  },
  {
   "cell_type": "markdown",
   "metadata": {},
   "source": [
    "# Building Decision Tree"
   ]
  },
  {
   "cell_type": "code",
   "execution_count": 5,
   "metadata": {},
   "outputs": [],
   "source": [
    "# set max_depth\n",
    "max_depth = 2\n",
    "\n",
    "# assign x and y features\n",
    "x_feat_list = ['beds', 'baths', 'area', 'distance']\n",
    "y_feat = 'price_bucket'\n",
    "\n",
    "# get data from df_pro\n",
    "x = df_pro.loc[:, x_feat_list].values\n",
    "y = df_pro.loc[:, y_feat].values\n",
    "\n",
    "# decision tree classifier\n",
    "dec_tree_clf = tree.DecisionTreeClassifier(max_depth=max_depth)\n",
    "\n",
    "# fit\n",
    "dec_tree_clf = dec_tree_clf.fit(x, y)"
   ]
  },
  {
   "cell_type": "markdown",
   "metadata": {},
   "source": [
    "# Plotting Tree"
   ]
  },
  {
   "cell_type": "code",
   "execution_count": 6,
   "metadata": {
    "scrolled": true
   },
   "outputs": [
    {
     "data": {
      "text/plain": [
       "DecisionTreeClassifier(max_depth=2)"
      ]
     },
     "execution_count": 6,
     "metadata": {},
     "output_type": "execute_result"
    },
    {
     "data": {
      "image/png": "[encoded data removed]",
      "text/plain": [
       "<Figure size 864x360 with 1 Axes>"
      ]
     },
     "metadata": {},
     "output_type": "display_data"
    }
   ],
   "source": [
    "# plot tree with plot_tree()\n",
    "sns.set()\n",
    "plt.figure()\n",
    "plt.gcf().set_size_inches(12, 5)\n",
    "\n",
    "# plot tree\n",
    "tree.plot_tree(dec_tree_clf, \n",
    "              feature_names=x_feat_list,\n",
    "              class_names=dec_tree_clf.classes_)\n",
    "\n",
    "dec_tree_clf"
   ]
  },
  {
   "cell_type": "markdown",
   "metadata": {},
   "source": [
    "# Tree Validation"
   ]
  },
  {
   "cell_type": "markdown",
   "metadata": {},
   "source": [
    "An intuitive behavior from this decision tree is that apartments with more than 2.5 bathrooms will have a higher price than apartments with <= 2.5 bathrooms. The decision tree clearly shows this after branching off the first node to the left, where the apartment with <= 2.5 bathrooms is worth less than 600k, but the apartment branching off to the right (meaning it does not have <= 2.5 bathrooms) is worth >= 900k. This pattern continues down the rest of the tree, where the left side has prices < 600k and and the right side has prices >= 900k."
   ]
  },
  {
   "cell_type": "markdown",
   "metadata": {},
   "source": [
    "## Part 2: Random Forest Classification (23 points)\n",
    "We'd like to quantify how significant each feature (i.e. 'beds', 'baths', 'area', 'distance') is to create an expensive property via a Random Forest Analysis.  Of course, because\n",
    "\n",
    "# Nobody cares how important each feature is in a classifier which doesn't work\n",
    "\n",
    "we should be sure to validate that our classifier is able to predict `price_bucket` with reasonable accuracy (in this case, it does have reasonable accuracy).\n",
    "\n",
    "Using 10 fold cross validation with a Random Forest (max_depth=3) and the same x, y definitions as above:\n",
    "- construct a confusion matrix which shows performance\n",
    "- compute accuracy via `accuracy_score`"
   ]
  },
  {
   "cell_type": "markdown",
   "metadata": {},
   "source": [
    "# Random Forest Classifier"
   ]
  },
  {
   "cell_type": "code",
   "execution_count": 7,
   "metadata": {},
   "outputs": [
    {
     "data": {
      "text/plain": [
       "RandomForestClassifier()"
      ]
     },
     "execution_count": 7,
     "metadata": {},
     "output_type": "execute_result"
    }
   ],
   "source": [
    "# random forest classifier\n",
    "rf_clf = RandomForestClassifier(n_estimators=100)\n",
    "\n",
    "# fit\n",
    "rf_clf.fit(x, y)"
   ]
  },
  {
   "cell_type": "markdown",
   "metadata": {},
   "source": [
    "# 10 Fold Cross Validation"
   ]
  },
  {
   "cell_type": "code",
   "execution_count": 8,
   "metadata": {},
   "outputs": [],
   "source": [
    "# 10 fold cross validation \n",
    "\n",
    "# set n_splits to 10\n",
    "n_splits = 10\n",
    "\n",
    "# set max_depth to 3\n",
    "max_depth = 3\n",
    "\n",
    "# initialize kfold\n",
    "kfold = StratifiedKFold(n_splits=n_splits)\n",
    "\n",
    "# initialize a random forest classifier\n",
    "rf_clf = RandomForestClassifier(max_depth=max_depth)\n",
    "\n",
    "# initialize y_pred which stores y predictions\n",
    "y_pred = np.empty_like(y)\n",
    "\n",
    "for train_idx, test_idx in kfold.split(x, y):\n",
    "    \n",
    "    # index to split training / test data\n",
    "    x_train = x[train_idx, :]\n",
    "    x_test = x[test_idx, :]\n",
    "    y_train = y[train_idx]\n",
    "    \n",
    "    # fit \n",
    "    rf_clf = rf_clf.fit(x_train, y_train)\n",
    "\n",
    "    # estimate\n",
    "    y_pred[test_idx] = rf_clf.predict(x_test)"
   ]
  },
  {
   "cell_type": "markdown",
   "metadata": {},
   "source": [
    "# Confusion Matrix"
   ]
  },
  {
   "cell_type": "code",
   "execution_count": 9,
   "metadata": {},
   "outputs": [
    {
     "data": {
      "text/plain": [
       "Text(0.5, 1.0, 'Random Forest where max_depth=3')"
      ]
     },
     "execution_count": 9,
     "metadata": {},
     "output_type": "execute_result"
    },
    {
     "data": {
      "image/png": "[encoded data removed]",
      "text/plain": [
       "<Figure size 648x648 with 2 Axes>"
      ]
     },
     "metadata": {},
     "output_type": "display_data"
    }
   ],
   "source": [
    "# create confusion matrix \n",
    "conf_mat = confusion_matrix(y_true=y, y_pred=y_pred)\n",
    "\n",
    "# create display of confusion matrix\n",
    "conf_mat_disp = ConfusionMatrixDisplay(conf_mat, display_labels=np.unique(y))\n",
    "\n",
    "# plot confusion matrix\n",
    "conf_mat_disp.plot()\n",
    "\n",
    "# set font size\n",
    "sns.set(font_scale=1.2)\n",
    "\n",
    "# set plot size\n",
    "plt.gcf().set_size_inches(9, 9)\n",
    "\n",
    "# turn grid off\n",
    "plt.grid(False)\n",
    "\n",
    "# create title\n",
    "plt.title('Random Forest where max_depth=3')"
   ]
  },
  {
   "cell_type": "markdown",
   "metadata": {},
   "source": [
    "## Part 3 Feature Importance in Random Forest (16 points)\n",
    "1. Fit a Random Forest Classifier on the *entire dataset.  \n",
    "1. Plot the Feature Importances, mean reduction in Gini scores, via `plot_feat_import()`.\n",
    "1. Write 1 or 2 sentences which are easily understood by a non-technical reader which synthesize the key takeaway message of the plot. Make sure you remind the reader what `price_bucket` means\n",
    "    - write your response in a markdown cell below the plot itself please\n",
    "\n",
    "*without k-fold Cross Validation ... remember that doing so yields k distinct classifiers which likely have slightly different feature importances.  By training on the entire dataset we implicitly \"average\" across the whole dataset."
   ]
  },
  {
   "cell_type": "markdown",
   "metadata": {},
   "source": [
    "# Fit Random Forest Classifier"
   ]
  },
  {
   "cell_type": "code",
   "execution_count": 10,
   "metadata": {},
   "outputs": [
    {
     "data": {
      "text/plain": [
       "RandomForestClassifier()"
      ]
     },
     "execution_count": 10,
     "metadata": {},
     "output_type": "execute_result"
    }
   ],
   "source": [
    "# random forest classifier\n",
    "rf_clf = RandomForestClassifier(n_estimators=100)\n",
    "\n",
    "# fit random forest to data\n",
    "rf_clf.fit(x, y)"
   ]
  },
  {
   "cell_type": "code",
   "execution_count": 11,
   "metadata": {},
   "outputs": [],
   "source": [
    "def plot_feat_import(feat_list, feat_import, sort=True, limit=None):\n",
    "    \"\"\" plots feature importances in a horizontal bar chart\n",
    "    \n",
    "    Args:\n",
    "        feat_list (list): names of features (str)\n",
    "        feat_import (np.array): feature importances (mean gini reduce)\n",
    "        sort (bool): if True, sorts features in decreasing importance\n",
    "            from top to bottom of plot\n",
    "        limit (int): if passed, limits the number of features shown\n",
    "            to this value    \n",
    "    \"\"\"\n",
    "    \n",
    "    if sort:\n",
    "        \n",
    "        # sort features importance in decreasing\n",
    "        idx = np.argsort(feat_import).astype(int)\n",
    "        feat_list = [feat_list[_idx] for _idx in idx]\n",
    "        feat_import = feat_import[idx] \n",
    "        \n",
    "    if limit is not None:\n",
    "        \n",
    "        # first limit feature\n",
    "        feat_list = feat_list[:limit]\n",
    "        feat_import = feat_import[:limit]\n",
    "    \n",
    "    # plot and label feature importance\n",
    "    plt.barh(feat_list, feat_import)\n",
    "    plt.gcf().set_size_inches(5, len(feat_list) / 2)\n",
    "    plt.xlabel('Feature importance\\n(% decrease in Gini due to each feature)')"
   ]
  },
  {
   "cell_type": "markdown",
   "metadata": {},
   "source": [
    "# Plot Feature Importance"
   ]
  },
  {
   "cell_type": "code",
   "execution_count": 12,
   "metadata": {},
   "outputs": [
    {
     "data": {
      "image/png": "[encoded data removed]",
      "text/plain": [
       "<Figure size 360x144 with 1 Axes>"
      ]
     },
     "metadata": {},
     "output_type": "display_data"
    }
   ],
   "source": [
    "plot_feat_import(x_feat_list, rf_clf.feature_importances_)"
   ]
  },
  {
   "cell_type": "markdown",
   "metadata": {},
   "source": [
    "## Part 4: Ethical applications of this model in the context of redlining (16 points)\n",
    "\n",
    "Using any housing model built and trained as above could (and likely would) do real harm to people if used without careful thought.  Remember, these models only mimic and recreate the relationships between housing features and price in input data.  Given this, the predictions should be understood as a reflection of the flawed world from which they come.  In the case of predicting housing prices in Boston, we should be mindful of race.  Using data from a racist world yields a racially biased model which, in turn, promotes racism when used to predict housing prices.\n",
    "\n",
    "Using the resources listed below, identify two distinct ways in which a biased model (one which overvalues the houses of white people while undervaluing the houses of people of color) might propogate racism if used to predict housing values (e.g. such a model is used by Zillow or similar).  \n",
    "\n",
    "Please give each of the two impacts its own markdown heading (###) and write one to three sentences which characterize it.\n",
    "\n",
    "- [Wikipedia on Redlining](https://en.wikipedia.org/wiki/Redlining)\n",
    "    - good background\n",
    "- [NPR Video (start here)](https://youtu.be/O5FBJyqfoLM) \n",
    "    - great summary\n",
    "    - hint: they do mention 4 specific impacts of redlining ... any two would be sufficient here\n",
    "    - be mindful of some spicy language by Chris Rock which opens the video\n",
    "        - skip 20 seconds to avoid if you prefer\n",
    "- [NYTimes article](https://www.nytimes.com/2021/03/20/opinion/home-value-race-taxes.html) \n",
    "    - strong, specific stats\n",
    "    - compelling single example\n",
    "    \n",
    "Note that the negative impact of the model does not require the model's builder have malicious intentions, or even consider race at all in the model's construction (race may be correlated with other input features).  These facts should give us pause as we build models for use in the real world: machine learning which hurts people can (and has) happened when model builders are not critical and thoughtful about their impact."
   ]
  },
  {
   "cell_type": "markdown",
   "metadata": {},
   "source": [
    "### Impact 1: School Bias"
   ]
  },
  {
   "cell_type": "markdown",
   "metadata": {},
   "source": [
    "The first way that biased models can propogate racism is through having houses in primarily black or minority areas be valued low, but not include the impact of the school in the area. The historically worse schools due to lack of funding through property taxes will then in turn make the minority neighborhoods worth less. This is is an issue that was created in the past and continuing it today through biased models will only continue racism. "
   ]
  },
  {
   "cell_type": "markdown",
   "metadata": {},
   "source": [
    "### Impact 2: Health Bias\n"
   ]
  },
  {
   "cell_type": "markdown",
   "metadata": {},
   "source": [
    "Models need to find ways to value houses fairly without considering factors such as proximity to factory plans because the zoning was done in the pass based on race. Figuring out ways to value houses based solely on the attributes of the house or apartments is vital to ensure that health factors are not included because that unfairly targets minorities. "
   ]
  },
  {
   "cell_type": "code",
   "execution_count": null,
   "metadata": {},
   "outputs": [],
   "source": []
  }
 ],
 "metadata": {
  "kernelspec": {
   "display_name": "Python 3 (ipykernel)",
   "language": "python",
   "name": "python3"
  },
  "language_info": {
   "codemirror_mode": {
    "name": "ipython",
    "version": 3
   },
   "file_extension": ".py",
   "mimetype": "text/x-python",
   "name": "python",
   "nbconvert_exporter": "python",
   "pygments_lexer": "ipython3",
   "version": "3.8.10"
  }
 },
 "nbformat": 4,
 "nbformat_minor": 4
}
