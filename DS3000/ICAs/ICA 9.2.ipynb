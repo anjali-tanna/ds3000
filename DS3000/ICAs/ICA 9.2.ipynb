{
 "cells": [
  {
   "cell_type": "markdown",
   "metadata": {},
   "source": [
    "# In Class Activity 2\n",
    "\n",
    "Build this pipeline (you may submit two ipynb files to gradescope for today's ICA)"
   ]
  },
  {
   "cell_type": "code",
   "execution_count": 1,
   "metadata": {},
   "outputs": [],
   "source": [
    "def openweather_onecall(latlon_tuple, api_key, units='imperial'):\n",
    "    \"\"\" returns weather data from one location via onecall\n",
    "    \n",
    "    https://openweathermap.org/api/one-call-api \n",
    "    \n",
    "    Args:\n",
    "        latlon_tuple (tuple): first element is lattitude,\n",
    "            second is longitude            \n",
    "        api_key (str): API key required to access data\n",
    "        units (str): 'imperial', 'standard', 'metric'\n",
    "        \n",
    "    Returns:\n",
    "        weather_dict (dict): a nested dictionary (tree) which\n",
    "            contains weather data\n",
    "    \"\"\"\n",
    "    # build url\n",
    "    lat, lon = latlon_tuple\n",
    "    url = f'https://api.openweathermap.org/data/2.5/onecall?lat={lat}&lon={lon}&appid={api_key}&units={units}'\n",
    "\n",
    "    # get url response as a string\n",
    "    url_text = requests.get(url).text\n",
    "\n",
    "    # convert from json to a nested dict\n",
    "    weather_dict = json.loads(url_text)\n",
    "    \n",
    "    return weather_dict\n",
    "\n",
    "    \n",
    "def get_clean_df_daily(daily_dict_list):\n",
    "    \"\"\" formats daily_dict to a pandas dataframe\n",
    "    \n",
    "    see https://openweathermap.org/api/one-call-api for\n",
    "    full daily_dict specification\n",
    "    \n",
    "    Args:\n",
    "        daily_dict_list (list): list of dictionaries of daily\n",
    "            weather features\n",
    "            \n",
    "    Returns:\n",
    "        df_daily (pd.DataFrame): each row is weather from one\n",
    "            day\n",
    "    \"\"\"\n",
    "    # build dataframe from nested dict\n",
    "    df_weather = pd.DataFrame()\n",
    "    for daily_dict in daily_dict_list:\n",
    "        daily_series = pd.Series(dtype='object')\n",
    "        \n",
    "        # we add a 'datetime' feature from the unix time (easier to use)\n",
    "        daily_series['date'] = datetime.fromtimestamp(daily_dict['dt'])\n",
    "        daily_series['time'] = datetime.fromtimestamp(daily_dict['time'])\n",
    "        \n",
    "    return df_daily.head()\n",
    "\n",
    "    \n",
    "def scatter_plotly(df, feat_x, feat_y, f_html='scatter.html'):\n",
    "    \"\"\" creates a plotly scatter plot, exports as html \n",
    "    \n",
    "    Args:\n",
    "        df (pd.DataFrame): pandas dataframe\n",
    "        x_feat (str): x axis of scatter\n",
    "        y_feat (str): y axis of scatter\n",
    "        f_html (str): output html file\n",
    "        \n",
    "    Returns:\n",
    "        f_html (str): output html file\n",
    "    \"\"\" \n",
    "    pass"
   ]
  },
  {
   "cell_type": "markdown",
   "metadata": {},
   "source": [
    "When the pipeline above is complete, the following script should plot a daily max temp scatter for Boston:"
   ]
  },
  {
   "cell_type": "code",
   "execution_count": 2,
   "metadata": {},
   "outputs": [
    {
     "ename": "NameError",
     "evalue": "name 'requests' is not defined",
     "output_type": "error",
     "traceback": [
      "\u001b[0;31m---------------------------------------------------------------------------\u001b[0m",
      "\u001b[0;31mNameError\u001b[0m                                 Traceback (most recent call last)",
      "Input \u001b[0;32mIn [2]\u001b[0m, in \u001b[0;36m<module>\u001b[0;34m\u001b[0m\n\u001b[1;32m      6\u001b[0m api_key \u001b[38;5;241m=\u001b[39m \u001b[38;5;124m'\u001b[39m\u001b[38;5;124md425caae2f81c7a83e56655ed3349f15\u001b[39m\u001b[38;5;124m'\u001b[39m\n\u001b[1;32m      8\u001b[0m \u001b[38;5;66;03m# get data\u001b[39;00m\n\u001b[0;32m----> 9\u001b[0m weather_dict \u001b[38;5;241m=\u001b[39m \u001b[43mopenweather_onecall\u001b[49m\u001b[43m(\u001b[49m\u001b[43mlatlon_tuple\u001b[49m\u001b[43m,\u001b[49m\u001b[43m \u001b[49m\n\u001b[1;32m     10\u001b[0m \u001b[43m                                   \u001b[49m\u001b[43munits\u001b[49m\u001b[38;5;241;43m=\u001b[39;49m\u001b[43munits\u001b[49m\u001b[43m,\u001b[49m\n\u001b[1;32m     11\u001b[0m \u001b[43m                                   \u001b[49m\u001b[43mapi_key\u001b[49m\u001b[38;5;241;43m=\u001b[39;49m\u001b[43mapi_key\u001b[49m\u001b[43m)\u001b[49m\n\u001b[1;32m     13\u001b[0m \u001b[38;5;66;03m# clean weather dict (make dataframe from dict, process timestamps etc)\u001b[39;00m\n\u001b[1;32m     14\u001b[0m df_daily \u001b[38;5;241m=\u001b[39m get_clean_df_daily(weather_dict[\u001b[38;5;124m'\u001b[39m\u001b[38;5;124mdaily\u001b[39m\u001b[38;5;124m'\u001b[39m])\n",
      "Input \u001b[0;32mIn [1]\u001b[0m, in \u001b[0;36mopenweather_onecall\u001b[0;34m(latlon_tuple, api_key, units)\u001b[0m\n\u001b[1;32m     18\u001b[0m url \u001b[38;5;241m=\u001b[39m \u001b[38;5;124mf\u001b[39m\u001b[38;5;124m'\u001b[39m\u001b[38;5;124mhttps://api.openweathermap.org/data/2.5/onecall?lat=\u001b[39m\u001b[38;5;132;01m{\u001b[39;00mlat\u001b[38;5;132;01m}\u001b[39;00m\u001b[38;5;124m&lon=\u001b[39m\u001b[38;5;132;01m{\u001b[39;00mlon\u001b[38;5;132;01m}\u001b[39;00m\u001b[38;5;124m&appid=\u001b[39m\u001b[38;5;132;01m{\u001b[39;00mapi_key\u001b[38;5;132;01m}\u001b[39;00m\u001b[38;5;124m&units=\u001b[39m\u001b[38;5;132;01m{\u001b[39;00munits\u001b[38;5;132;01m}\u001b[39;00m\u001b[38;5;124m'\u001b[39m\n\u001b[1;32m     20\u001b[0m \u001b[38;5;66;03m# get url response as a string\u001b[39;00m\n\u001b[0;32m---> 21\u001b[0m url_text \u001b[38;5;241m=\u001b[39m \u001b[43mrequests\u001b[49m\u001b[38;5;241m.\u001b[39mget(url)\u001b[38;5;241m.\u001b[39mtext\n\u001b[1;32m     23\u001b[0m \u001b[38;5;66;03m# convert from json to a nested dict\u001b[39;00m\n\u001b[1;32m     24\u001b[0m weather_dict \u001b[38;5;241m=\u001b[39m json\u001b[38;5;241m.\u001b[39mloads(url_text)\n",
      "\u001b[0;31mNameError\u001b[0m: name 'requests' is not defined"
     ]
    }
   ],
   "source": [
    "# inputs\n",
    "feat_x = 'date'\n",
    "feat_y = 'temp_max'\n",
    "latlon_tuple = -42, 70\n",
    "units = 'imperial'\n",
    "api_key = 'd425caae2f81c7a83e56655ed3349f15'\n",
    "\n",
    "# get data\n",
    "weather_dict = openweather_onecall(latlon_tuple, \n",
    "                                   units=units,\n",
    "                                   api_key=api_key)\n",
    "\n",
    "# clean weather dict (make dataframe from dict, process timestamps etc)\n",
    "df_daily = get_clean_df_daily(weather_dict['daily'])\n",
    "\n",
    "# make scatter\n",
    "f_html = scatter_plotly(df_daily, feat_x=feat_x, feat_y=feat_y)"
   ]
  }
 ],
 "metadata": {
  "celltoolbar": "Slideshow",
  "kernelspec": {
   "display_name": "Python 3 (ipykernel)",
   "language": "python",
   "name": "python3"
  },
  "language_info": {
   "codemirror_mode": {
    "name": "ipython",
    "version": 3
   },
   "file_extension": ".py",
   "mimetype": "text/x-python",
   "name": "python",
   "nbconvert_exporter": "python",
   "pygments_lexer": "ipython3",
   "version": "3.8.10"
  }
 },
 "nbformat": 4,
 "nbformat_minor": 4
}
