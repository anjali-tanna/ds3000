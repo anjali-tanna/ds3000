{
 "cells": [
  {
   "cell_type": "markdown",
   "id": "02536274",
   "metadata": {
    "slideshow": {
     "slide_type": "slide"
    }
   },
   "source": [
    "# In Class Activity A:"
   ]
  },
  {
   "cell_type": "code",
   "execution_count": 1,
   "id": "55ae9a98",
   "metadata": {
    "slideshow": {
     "slide_type": "slide"
    }
   },
   "outputs": [
    {
     "name": "stdout",
     "output_type": "stream",
     "text": [
      "what is your grade?\n",
      "86\n",
      "Your grade is a B\n"
     ]
    }
   ],
   "source": [
    "# In Class Activity A (Solution):\n",
    "\n",
    "print('what is your grade?')\n",
    "grade = int(input())\n",
    "if grade >= 90:\n",
    "    print('Your grade is an A')\n",
    "elif grade >= 80:\n",
    "    print('Your grade is a B')\n",
    "elif grade >= 70:\n",
    "    print('Your grade is a C')\n",
    "elif grade >= 60:\n",
    "    print('Your grade is a D')\n",
    "else: \n",
    "    print('Your grade is an F')\n",
    "            "
   ]
  },
  {
   "cell_type": "markdown",
   "id": "6d77b6dc",
   "metadata": {
    "slideshow": {
     "slide_type": "slide"
    }
   },
   "source": [
    "### In class activity B (Lists & Strings):"
   ]
  },
  {
   "cell_type": "code",
   "execution_count": null,
   "id": "c2ae02d6",
   "metadata": {},
   "outputs": [],
   "source": [
    "list_short = list()\n",
    "list_aplha = list()\n",
    "list_abcba = list()\n",
    "list_all = list()"
   ]
  },
  {
   "cell_type": "code",
   "execution_count": null,
   "id": "0a4fb827",
   "metadata": {},
   "outputs": [],
   "source": [
    "name = input('What is the the name being added?' )\n",
    "\n",
    "if len(name) < 5:\n",
    "    list_short.append(name)\n",
    "if list(name) == sorted(name):\n",
    "    list_alpha.append(name)\n",
    "if name == name[::-1]:\n",
    "    list_abcba.append\n"
   ]
  },
  {
   "cell_type": "code",
   "execution_count": 2,
   "id": "0918b41e",
   "metadata": {},
   "outputs": [],
   "source": [
    "list_short = []\n",
    "list_alpha = []\n",
    "list_abcba = []\n",
    "list_all = []\n",
    "\n",
    "dict = ('short': [], 'alpha': [], 'abcba': [], 'all': [])"
   ]
  },
  {
   "cell_type": "code",
   "execution_count": null,
   "id": "e3438860",
   "metadata": {},
   "outputs": [],
   "source": [
    "name = input('What name is being added? ')\n",
    "\n",
    "dict['all'].append(name)\n",
    "new_list = list(name)\n",
    "\n",
    "if len(name) < 5:\n",
    "    dict('short').append(name)\n",
    "    \n",
    "if new_list == sorted(new_list):\n",
    "     dict('alpha').append(name)\n",
    "    \n",
    "if new_list == new_list[::-1]:\n",
    "    dict('abcba').append(name)\n",
    "\n"
   ]
  },
  {
   "cell_type": "code",
   "execution_count": null,
   "id": "49b4913f",
   "metadata": {},
   "outputs": [],
   "source": []
  },
  {
   "cell_type": "code",
   "execution_count": null,
   "id": "70eae8a9",
   "metadata": {},
   "outputs": [],
   "source": []
  }
 ],
 "metadata": {
  "celltoolbar": "Slideshow",
  "kernelspec": {
   "display_name": "Python 3 (ipykernel)",
   "language": "python",
   "name": "python3"
  },
  "language_info": {
   "codemirror_mode": {
    "name": "ipython",
    "version": 3
   },
   "file_extension": ".py",
   "mimetype": "text/x-python",
   "name": "python",
   "nbconvert_exporter": "python",
   "pygments_lexer": "ipython3",
   "version": "3.8.10"
  }
 },
 "nbformat": 4,
 "nbformat_minor": 5
}
