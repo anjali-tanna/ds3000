{
 "cells": [
  {
   "cell_type": "markdown",
   "id": "808c6f9d",
   "metadata": {},
   "source": [
    "# ICA 3"
   ]
  },
  {
   "cell_type": "markdown",
   "id": "5415a5a3",
   "metadata": {},
   "source": [
    "## Problem 1"
   ]
  },
  {
   "cell_type": "code",
   "execution_count": 1,
   "id": "8c15a7a8",
   "metadata": {},
   "outputs": [],
   "source": [
    "import numpy as np"
   ]
  },
  {
   "cell_type": "code",
   "execution_count": 2,
   "id": "f8fbcc2e",
   "metadata": {},
   "outputs": [
    {
     "data": {
      "text/plain": [
       "array([11.        , 11.31313131, 11.62626263, 11.93939394, 12.25252525,\n",
       "       12.56565657, 12.87878788, 13.19191919, 13.50505051, 13.81818182,\n",
       "       14.13131313, 14.44444444, 14.75757576, 15.07070707, 15.38383838,\n",
       "       15.6969697 , 16.01010101, 16.32323232, 16.63636364, 16.94949495,\n",
       "       17.26262626, 17.57575758, 17.88888889, 18.2020202 , 18.51515152,\n",
       "       18.82828283, 19.14141414, 19.45454545, 19.76767677, 20.08080808,\n",
       "       20.39393939, 20.70707071, 21.02020202, 21.33333333, 21.64646465,\n",
       "       21.95959596, 22.27272727, 22.58585859, 22.8989899 , 23.21212121,\n",
       "       23.52525253, 23.83838384, 24.15151515, 24.46464646, 24.77777778,\n",
       "       25.09090909, 25.4040404 , 25.71717172, 26.03030303, 26.34343434,\n",
       "       26.65656566, 26.96969697, 27.28282828, 27.5959596 , 27.90909091,\n",
       "       28.22222222, 28.53535354, 28.84848485, 29.16161616, 29.47474747,\n",
       "       29.78787879, 30.1010101 , 30.41414141, 30.72727273, 31.04040404,\n",
       "       31.35353535, 31.66666667, 31.97979798, 32.29292929, 32.60606061,\n",
       "       32.91919192, 33.23232323, 33.54545455, 33.85858586, 34.17171717,\n",
       "       34.48484848, 34.7979798 , 35.11111111, 35.42424242, 35.73737374,\n",
       "       36.05050505, 36.36363636, 36.67676768, 36.98989899, 37.3030303 ,\n",
       "       37.61616162, 37.92929293, 38.24242424, 38.55555556, 38.86868687,\n",
       "       39.18181818, 39.49494949, 39.80808081, 40.12121212, 40.43434343,\n",
       "       40.74747475, 41.06060606, 41.37373737, 41.68686869, 42.        ])"
      ]
     },
     "execution_count": 2,
     "metadata": {},
     "output_type": "execute_result"
    }
   ],
   "source": [
    "new_array = np.linspace(11, 42, 100)\n",
    "new_array"
   ]
  },
  {
   "cell_type": "code",
   "execution_count": 3,
   "id": "692726c4",
   "metadata": {},
   "outputs": [
    {
     "data": {
      "text/plain": [
       "array([[11.        , 11.31313131, 11.62626263, 11.93939394, 12.25252525,\n",
       "        12.56565657, 12.87878788, 13.19191919, 13.50505051, 13.81818182,\n",
       "        14.13131313, 14.44444444, 14.75757576, 15.07070707, 15.38383838,\n",
       "        15.6969697 , 16.01010101, 16.32323232, 16.63636364, 16.94949495],\n",
       "       [17.26262626, 17.57575758, 17.88888889, 18.2020202 , 18.51515152,\n",
       "        18.82828283, 19.14141414, 19.45454545, 19.76767677, 20.08080808,\n",
       "        20.39393939, 20.70707071, 21.02020202, 21.33333333, 21.64646465,\n",
       "        21.95959596, 22.27272727, 22.58585859, 22.8989899 , 23.21212121],\n",
       "       [23.52525253, 23.83838384, 24.15151515, 24.46464646, 24.77777778,\n",
       "        25.09090909, 25.4040404 , 25.71717172, 26.03030303, 26.34343434,\n",
       "        26.65656566, 26.96969697, 27.28282828, 27.5959596 , 27.90909091,\n",
       "        28.22222222, 28.53535354, 28.84848485, 29.16161616, 29.47474747],\n",
       "       [29.78787879, 30.1010101 , 30.41414141, 30.72727273, 31.04040404,\n",
       "        31.35353535, 31.66666667, 31.97979798, 32.29292929, 32.60606061,\n",
       "        32.91919192, 33.23232323, 33.54545455, 33.85858586, 34.17171717,\n",
       "        34.48484848, 34.7979798 , 35.11111111, 35.42424242, 35.73737374],\n",
       "       [36.05050505, 36.36363636, 36.67676768, 36.98989899, 37.3030303 ,\n",
       "        37.61616162, 37.92929293, 38.24242424, 38.55555556, 38.86868687,\n",
       "        39.18181818, 39.49494949, 39.80808081, 40.12121212, 40.43434343,\n",
       "        40.74747475, 41.06060606, 41.37373737, 41.68686869, 42.        ]])"
      ]
     },
     "execution_count": 3,
     "metadata": {},
     "output_type": "execute_result"
    }
   ],
   "source": [
    "reshaped_array = new_array.reshape((5, -1))\n",
    "reshaped_array"
   ]
  },
  {
   "cell_type": "code",
   "execution_count": 4,
   "id": "6865ddfb",
   "metadata": {},
   "outputs": [
    {
     "data": {
      "text/plain": [
       "800"
      ]
     },
     "execution_count": 4,
     "metadata": {},
     "output_type": "execute_result"
    }
   ],
   "source": [
    "# memory when array is a float\n",
    "reshaped_array.nbytes"
   ]
  },
  {
   "cell_type": "code",
   "execution_count": 5,
   "id": "0eb86cd9",
   "metadata": {},
   "outputs": [
    {
     "data": {
      "text/plain": [
       "array([[11, 11, 11, 11, 12, 12, 12, 13, 13, 13, 14, 14, 14, 15, 15, 15,\n",
       "        16, 16, 16, 16],\n",
       "       [17, 17, 17, 18, 18, 18, 19, 19, 19, 20, 20, 20, 21, 21, 21, 21,\n",
       "        22, 22, 22, 23],\n",
       "       [23, 23, 24, 24, 24, 25, 25, 25, 26, 26, 26, 26, 27, 27, 27, 28,\n",
       "        28, 28, 29, 29],\n",
       "       [29, 30, 30, 30, 31, 31, 31, 31, 32, 32, 32, 33, 33, 33, 34, 34,\n",
       "        34, 35, 35, 35],\n",
       "       [36, 36, 36, 36, 37, 37, 37, 38, 38, 38, 39, 39, 39, 40, 40, 40,\n",
       "        41, 41, 41, 42]])"
      ]
     },
     "execution_count": 5,
     "metadata": {},
     "output_type": "execute_result"
    }
   ],
   "source": [
    "int_array = reshaped_array.astype(int)\n",
    "int_array.reshape(5, -1)\n",
    "int_array"
   ]
  },
  {
   "cell_type": "code",
   "execution_count": 6,
   "id": "a666b37c",
   "metadata": {},
   "outputs": [
    {
     "data": {
      "text/plain": [
       "array([[11, 11, 11, 11, 12, 12, 12, 13, 13, 13, 14, 14, 14, 15, 15, 15,\n",
       "        16, 16, 16, 16],\n",
       "       [17, 17, 17, 18, 18, 18, 19, 19, 19, 20, 20, 20, 21, 21, 21, 21,\n",
       "        22, 22, 22, 23],\n",
       "       [23, 23, 24, 24, 24, 25, 25, 25, 26, 26, 26, 26, 27, 27, 27, 28,\n",
       "        28, 28, 29, 29],\n",
       "       [29, 30, 30, 30, 31, 31, 31, 31, 32, 32, 32, 33, 33, 33, 34, 34,\n",
       "        34, 35, 35, 35],\n",
       "       [36, 36, 36, 36, 37, 37, 37, 38, 38, 38, 39, 39, 39, 40, 40, 40,\n",
       "        41, 41, 41, 42]], dtype=int8)"
      ]
     },
     "execution_count": 6,
     "metadata": {},
     "output_type": "execute_result"
    }
   ],
   "source": [
    "np.int8(reshaped_array)"
   ]
  },
  {
   "cell_type": "code",
   "execution_count": 7,
   "id": "9c7b7e4a",
   "metadata": {},
   "outputs": [
    {
     "data": {
      "text/plain": [
       "800"
      ]
     },
     "execution_count": 7,
     "metadata": {},
     "output_type": "execute_result"
    }
   ],
   "source": [
    "# memory when array is an int\n",
    "int_array.nbytes"
   ]
  },
  {
   "cell_type": "markdown",
   "id": "2b06132d",
   "metadata": {},
   "source": [
    "## Problem 2"
   ]
  },
  {
   "cell_type": "code",
   "execution_count": 9,
   "id": "8889e15a",
   "metadata": {},
   "outputs": [],
   "source": [
    "x = np.array([[0., 1., 3., 0., 5., 5.],\n",
    "              [0., 0., 3., 0., 0., 0.],\n",
    "              [0., 2., 3., 0., 0., 0.],\n",
    "              [0., 0., 3., 4., 4., 4.],\n",
    "              [0., 0., 3., 4., 4., 4.],\n",
    "              [0., 0., 3., 4., 4., 4.]])"
   ]
  },
  {
   "cell_type": "code",
   "execution_count": 10,
   "id": "7f88290f",
   "metadata": {},
   "outputs": [
    {
     "data": {
      "text/plain": [
       "1.0"
      ]
     },
     "execution_count": 10,
     "metadata": {},
     "output_type": "execute_result"
    }
   ],
   "source": [
    "# get 1\n",
    "\n",
    "x[0, 1]"
   ]
  },
  {
   "cell_type": "code",
   "execution_count": 16,
   "id": "3f8fff3c",
   "metadata": {},
   "outputs": [
    {
     "data": {
      "text/plain": [
       "2.0"
      ]
     },
     "execution_count": 16,
     "metadata": {},
     "output_type": "execute_result"
    }
   ],
   "source": [
    "# get 2\n",
    "\n",
    "x[2, 1]"
   ]
  },
  {
   "cell_type": "code",
   "execution_count": 17,
   "id": "0d14a7ec",
   "metadata": {},
   "outputs": [
    {
     "data": {
      "text/plain": [
       "array([3., 3., 3., 3., 3., 3.])"
      ]
     },
     "execution_count": 17,
     "metadata": {},
     "output_type": "execute_result"
    }
   ],
   "source": [
    "# get 3\n",
    "\n",
    "x[:, 2]"
   ]
  },
  {
   "cell_type": "code",
   "execution_count": 18,
   "id": "f7f55489",
   "metadata": {},
   "outputs": [
    {
     "data": {
      "text/plain": [
       "array([[4., 4., 4.],\n",
       "       [4., 4., 4.],\n",
       "       [4., 4., 4.]])"
      ]
     },
     "execution_count": 18,
     "metadata": {},
     "output_type": "execute_result"
    }
   ],
   "source": [
    "# get 4\n",
    "\n",
    "x[3:, 3:]"
   ]
  },
  {
   "cell_type": "code",
   "execution_count": 19,
   "id": "7b4de12a",
   "metadata": {},
   "outputs": [
    {
     "data": {
      "text/plain": [
       "array([5., 5.])"
      ]
     },
     "execution_count": 19,
     "metadata": {},
     "output_type": "execute_result"
    }
   ],
   "source": [
    "# get 5\n",
    "\n",
    "x[0, -2:]"
   ]
  },
  {
   "cell_type": "code",
   "execution_count": 20,
   "id": "933faa2e",
   "metadata": {},
   "outputs": [
    {
     "data": {
      "text/plain": [
       "array([5., 0., 0., 4., 4., 4.])"
      ]
     },
     "execution_count": 20,
     "metadata": {},
     "output_type": "execute_result"
    }
   ],
   "source": [
    "# last column\n",
    "\n",
    "x[:, 5]"
   ]
  },
  {
   "cell_type": "code",
   "execution_count": 21,
   "id": "fff6d482",
   "metadata": {},
   "outputs": [
    {
     "data": {
      "text/plain": [
       "array([0., 0., 3., 4., 4., 4.])"
      ]
     },
     "execution_count": 21,
     "metadata": {},
     "output_type": "execute_result"
    }
   ],
   "source": [
    "# last row\n",
    "\n",
    "x[5, :]"
   ]
  },
  {
   "cell_type": "code",
   "execution_count": 22,
   "id": "d4d0a8a9",
   "metadata": {},
   "outputs": [
    {
     "data": {
      "text/plain": [
       "array([5., 0., 0.])"
      ]
     },
     "execution_count": 22,
     "metadata": {},
     "output_type": "execute_result"
    }
   ],
   "source": [
    "# first three elements of last column of x\n",
    "\n",
    "x[:3, 5]"
   ]
  },
  {
   "cell_type": "markdown",
   "id": "2ae50f65",
   "metadata": {},
   "source": [
    "## Problem 3"
   ]
  },
  {
   "cell_type": "code",
   "execution_count": 25,
   "id": "2e304e6b",
   "metadata": {},
   "outputs": [
    {
     "data": {
      "text/plain": [
       "array([[ 56,  77,  94],\n",
       "       [ 99,  89,  95],\n",
       "       [ 34,  42,  51],\n",
       "       [100, 100, 100],\n",
       "       [ 76,  78,  79]])"
      ]
     },
     "execution_count": 25,
     "metadata": {},
     "output_type": "execute_result"
    }
   ],
   "source": [
    "# grades array\n",
    "# rows are each student\n",
    "# columns are each quiz\n",
    "grades_array = np.array([[56, 77, 94], [99, 89, 95], [34, 42, 51], [100, 100, 100], [76, 78, 79]])\n",
    "grades_array"
   ]
  },
  {
   "cell_type": "code",
   "execution_count": 34,
   "id": "278e3a87",
   "metadata": {},
   "outputs": [
    {
     "data": {
      "text/plain": [
       "78.0"
      ]
     },
     "execution_count": 34,
     "metadata": {},
     "output_type": "execute_result"
    }
   ],
   "source": [
    "# mean among all students and quizzes\n",
    "grades_array.mean()"
   ]
  },
  {
   "cell_type": "code",
   "execution_count": 26,
   "id": "75380d79",
   "metadata": {},
   "outputs": [
    {
     "data": {
      "text/plain": [
       "array([ 75.66666667,  94.33333333,  42.33333333, 100.        ,\n",
       "        77.66666667])"
      ]
     },
     "execution_count": 26,
     "metadata": {},
     "output_type": "execute_result"
    }
   ],
   "source": [
    "# mean score for each student\n",
    "grades_array.mean(axis=1)"
   ]
  },
  {
   "cell_type": "code",
   "execution_count": 27,
   "id": "f0a9c49e",
   "metadata": {},
   "outputs": [
    {
     "data": {
      "text/plain": [
       "array([73. , 77.2, 83.8])"
      ]
     },
     "execution_count": 27,
     "metadata": {},
     "output_type": "execute_result"
    }
   ],
   "source": [
    "# mean score among the quizzes\n",
    "grades_array.mean(axis=0)"
   ]
  },
  {
   "cell_type": "code",
   "execution_count": 32,
   "id": "5b159e65",
   "metadata": {},
   "outputs": [
    {
     "data": {
      "text/plain": [
       "100.0"
      ]
     },
     "execution_count": 32,
     "metadata": {},
     "output_type": "execute_result"
    }
   ],
   "source": [
    "# mean of student who had the highest mean\n",
    "max(grades_array.mean(axis=1))"
   ]
  },
  {
   "cell_type": "code",
   "execution_count": 39,
   "id": "2e69386e",
   "metadata": {},
   "outputs": [
    {
     "data": {
      "text/plain": [
       "0"
      ]
     },
     "execution_count": 39,
     "metadata": {},
     "output_type": "execute_result"
    }
   ],
   "source": [
    "# quiz with lowest mean score\n",
    "grades_array.mean(axis=0).argmin()"
   ]
  },
  {
   "cell_type": "code",
   "execution_count": null,
   "id": "e1404cf4",
   "metadata": {},
   "outputs": [],
   "source": []
  },
  {
   "cell_type": "code",
   "execution_count": null,
   "id": "0bfc6659",
   "metadata": {},
   "outputs": [],
   "source": []
  },
  {
   "cell_type": "code",
   "execution_count": null,
   "id": "94cd066b",
   "metadata": {},
   "outputs": [],
   "source": []
  }
 ],
 "metadata": {
  "kernelspec": {
   "display_name": "Python 3 (ipykernel)",
   "language": "python",
   "name": "python3"
  },
  "language_info": {
   "codemirror_mode": {
    "name": "ipython",
    "version": 3
   },
   "file_extension": ".py",
   "mimetype": "text/x-python",
   "name": "python",
   "nbconvert_exporter": "python",
   "pygments_lexer": "ipython3",
   "version": "3.8.10"
  }
 },
 "nbformat": 4,
 "nbformat_minor": 5
}
