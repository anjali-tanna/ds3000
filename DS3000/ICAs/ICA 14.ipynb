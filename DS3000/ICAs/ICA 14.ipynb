{
 "cells": [
  {
   "cell_type": "markdown",
   "metadata": {
    "slideshow": {
     "slide_type": "slide"
    }
   },
   "source": [
    "## In Class Assignment 1\n",
    "\n",
    "Each of the scatters below shows two features, each with a mean of 0.  Match the scatter above with the covariance matrices below (each scatter corresponds to a unique covariance matrix).\n",
    "\n",
    "<img src=\"https://i.ibb.co/kcN8TvM/cov-match.png\" alt=\"Drawing\" style=\"width: 800px;\"/>"
   ]
  },
  {
   "cell_type": "markdown",
   "metadata": {},
   "source": [
    "# Matching each scatter with covariance matrices\n",
    "\n",
    "- ∑a and ∑3\n",
    "- ∑b and ∑1\n",
    "- ∑c and ∑5\n",
    "- ∑d and ∑2\n",
    "- ∑e and ∑0\n",
    "- ∑f and ∑4"
   ]
  },
  {
   "cell_type": "markdown",
   "metadata": {
    "slideshow": {
     "slide_type": "slide"
    }
   },
   "source": [
    "### In Class Assignment 2\n",
    "Order the following pairs of variables from the smallest to largest correlation.  Using your intuition, choose a range that $corr(x,y)$ falls into from the ones listed below\n",
    "    \n",
    "- -1\n",
    "- between -1 and 0 (not including either)\n",
    "- 0\n",
    "- between 0 and 1 (not including either)\n",
    "- 1\n",
    "\n",
    "|                      x                      |                     y                     |\n",
    "|:-------------------------------------------:|:-----------------------------------------:|\n",
    "|               Mass of penguin               |         Flipper length of penguin         |\n",
    "|          Height of person in inches         |           Height of person in cm          |\n",
    "|               Weight of a car               |       Fuel efficiency of a car (mpg)      |\n",
    "|  Republican *seats per congressional session |  Democrat seats per congressional session |\n",
    "| How many chocolates one has eaten in a year | The number of hairs on that person's head |\n",
    "\n",
    "*Assume that every seat goes to either a Republican or Democrat"
   ]
  },
  {
   "cell_type": "markdown",
   "metadata": {},
   "source": [
    "|                      x                      |                     y                     | order | correlation      |\n",
    "|:-------------------------------------------:|:-----------------------------------------:|-------|------------------|\n",
    "|               Mass of penguin               |         Flipper length of penguin         | 4     | between 0 and 1  |\n",
    "|          Height of person in inches         |           Height of person in cm          | 5     | 1                |\n",
    "|               Weight of a car               |       Fuel efficiency of a car (mpg)      | 2     | between -1 and 0 |\n",
    "| Republican *seats per congressional session |  Democrat seats per congressional session | 1     | -1               |\n",
    "| How many chocolates one has eaten in a year | The number of hairs on that person's head | 3     | 0                |"
   ]
  }
 ],
 "metadata": {
  "celltoolbar": "Slideshow",
  "kernelspec": {
   "display_name": "Python 3 (ipykernel)",
   "language": "python",
   "name": "python3"
  },
  "language_info": {
   "codemirror_mode": {
    "name": "ipython",
    "version": 3
   },
   "file_extension": ".py",
   "mimetype": "text/x-python",
   "name": "python",
   "nbconvert_exporter": "python",
   "pygments_lexer": "ipython3",
   "version": "3.8.10"
  }
 },
 "nbformat": 4,
 "nbformat_minor": 4
}
