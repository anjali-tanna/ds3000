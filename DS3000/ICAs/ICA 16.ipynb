{
 "cells": [
  {
   "cell_type": "markdown",
   "id": "going-skill",
   "metadata": {},
   "source": [
    "## In Class Assignment 1\n",
    "\n",
    "Quantitatively, which pair of the following apartments is most similar?\n",
    "\n",
    "|       | sq ft | bedrooms | bathrooms | toilets |\n",
    "|-------|------:|---------:|----------:|---------|\n",
    "| apt 0 |   850 |        2 |         1 | 1       |\n",
    "| apt 1 |  1000 |        2 |         2 | 2       |\n",
    "| apt 2 |  1300 |        3 |         2 | 2       |\n",
    "\n",
    "- Define and clearly explain how you quantify whether two apartments are similar or different1\n",
    "- Build a dataframe and explicilty compute each pair's distance\n",
    "- Be warned, this example has a quirk we haven't yet seen in class.  You can resolve it yourself with some careful thinking, do what makes sense to you!\n"
   ]
  },
  {
   "cell_type": "code",
   "execution_count": 1,
   "id": "8b2f71ad",
   "metadata": {},
   "outputs": [],
   "source": [
    "import pandas as pd\n",
    "import numpy as np"
   ]
  },
  {
   "cell_type": "code",
   "execution_count": 2,
   "id": "8ebc34d0",
   "metadata": {},
   "outputs": [],
   "source": [
    "# samples to be put in apartment dataframe, dropping the toilet column\n",
    "# toilet column is dropped because it is essentially the same as the bathroom column\n",
    "apt0 = {'apt': 'apt0', 'sq ft': 850, 'bedrooms': 2, 'bathrooms': 1, 'toilets': 1}\n",
    "apt1 = {'apt': 'apt1', 'sq ft': 1000, 'bedrooms': 2, 'bathrooms': 2, 'toilets': 2}\n",
    "apt2 = {'apt': 'apt2', 'sq ft': 1300, 'bedrooms': 3, 'bathrooms': 2, 'toilets': 2}"
   ]
  },
  {
   "cell_type": "code",
   "execution_count": 3,
   "id": "13020a86",
   "metadata": {},
   "outputs": [
    {
     "data": {
      "text/html": [
       "<div>\n",
       "<style scoped>\n",
       "    .dataframe tbody tr th:only-of-type {\n",
       "        vertical-align: middle;\n",
       "    }\n",
       "\n",
       "    .dataframe tbody tr th {\n",
       "        vertical-align: top;\n",
       "    }\n",
       "\n",
       "    .dataframe thead th {\n",
       "        text-align: right;\n",
       "    }\n",
       "</style>\n",
       "<table border=\"1\" class=\"dataframe\">\n",
       "  <thead>\n",
       "    <tr style=\"text-align: right;\">\n",
       "      <th></th>\n",
       "      <th>sq ft</th>\n",
       "      <th>bedrooms</th>\n",
       "      <th>bathrooms</th>\n",
       "      <th>toilets</th>\n",
       "    </tr>\n",
       "    <tr>\n",
       "      <th>apt</th>\n",
       "      <th></th>\n",
       "      <th></th>\n",
       "      <th></th>\n",
       "      <th></th>\n",
       "    </tr>\n",
       "  </thead>\n",
       "  <tbody>\n",
       "    <tr>\n",
       "      <th>apt0</th>\n",
       "      <td>850</td>\n",
       "      <td>2</td>\n",
       "      <td>1</td>\n",
       "      <td>1</td>\n",
       "    </tr>\n",
       "    <tr>\n",
       "      <th>apt1</th>\n",
       "      <td>1000</td>\n",
       "      <td>2</td>\n",
       "      <td>2</td>\n",
       "      <td>2</td>\n",
       "    </tr>\n",
       "    <tr>\n",
       "      <th>apt2</th>\n",
       "      <td>1300</td>\n",
       "      <td>3</td>\n",
       "      <td>2</td>\n",
       "      <td>2</td>\n",
       "    </tr>\n",
       "  </tbody>\n",
       "</table>\n",
       "</div>"
      ],
      "text/plain": [
       "      sq ft  bedrooms  bathrooms  toilets\n",
       "apt                                      \n",
       "apt0    850         2          1        1\n",
       "apt1   1000         2          2        2\n",
       "apt2   1300         3          2        2"
      ]
     },
     "execution_count": 3,
     "metadata": {},
     "output_type": "execute_result"
    }
   ],
   "source": [
    "# apartment dataframe\n",
    "df_apt = pd.DataFrame([apt0, apt1, apt2])\n",
    "df_apt = df_apt.set_index(['apt'])\n",
    "df_apt"
   ]
  },
  {
   "cell_type": "code",
   "execution_count": 4,
   "id": "cf619819",
   "metadata": {},
   "outputs": [
    {
     "data": {
      "text/plain": [
       "sq ft        52500.000000\n",
       "bedrooms         0.333333\n",
       "bathrooms        0.333333\n",
       "toilets          0.333333\n",
       "dtype: float64"
      ]
     },
     "execution_count": 4,
     "metadata": {},
     "output_type": "execute_result"
    }
   ],
   "source": [
    "df_apt.var()"
   ]
  },
  {
   "cell_type": "code",
   "execution_count": 5,
   "id": "599f618d",
   "metadata": {},
   "outputs": [],
   "source": [
    "# initializing scaled dataframe\n",
    "df_apt_scaled = pd.DataFrame()\n",
    "\n",
    "# scaling dataframe\n",
    "for col in df_apt.columns:\n",
    "    df_apt_scaled[f'{col}_scaled'] = df_apt[col] / df_apt[col].std()"
   ]
  },
  {
   "cell_type": "code",
   "execution_count": 6,
   "id": "b73e61d5",
   "metadata": {},
   "outputs": [
    {
     "data": {
      "text/html": [
       "<div>\n",
       "<style scoped>\n",
       "    .dataframe tbody tr th:only-of-type {\n",
       "        vertical-align: middle;\n",
       "    }\n",
       "\n",
       "    .dataframe tbody tr th {\n",
       "        vertical-align: top;\n",
       "    }\n",
       "\n",
       "    .dataframe thead th {\n",
       "        text-align: right;\n",
       "    }\n",
       "</style>\n",
       "<table border=\"1\" class=\"dataframe\">\n",
       "  <thead>\n",
       "    <tr style=\"text-align: right;\">\n",
       "      <th></th>\n",
       "      <th>sq ft_scaled</th>\n",
       "      <th>bedrooms_scaled</th>\n",
       "      <th>bathrooms_scaled</th>\n",
       "      <th>toilets_scaled</th>\n",
       "    </tr>\n",
       "    <tr>\n",
       "      <th>apt</th>\n",
       "      <th></th>\n",
       "      <th></th>\n",
       "      <th></th>\n",
       "      <th></th>\n",
       "    </tr>\n",
       "  </thead>\n",
       "  <tbody>\n",
       "    <tr>\n",
       "      <th>apt0</th>\n",
       "      <td>3.709704</td>\n",
       "      <td>3.464102</td>\n",
       "      <td>1.732051</td>\n",
       "      <td>1.732051</td>\n",
       "    </tr>\n",
       "    <tr>\n",
       "      <th>apt1</th>\n",
       "      <td>4.364358</td>\n",
       "      <td>3.464102</td>\n",
       "      <td>3.464102</td>\n",
       "      <td>3.464102</td>\n",
       "    </tr>\n",
       "    <tr>\n",
       "      <th>apt2</th>\n",
       "      <td>5.673665</td>\n",
       "      <td>5.196152</td>\n",
       "      <td>3.464102</td>\n",
       "      <td>3.464102</td>\n",
       "    </tr>\n",
       "  </tbody>\n",
       "</table>\n",
       "</div>"
      ],
      "text/plain": [
       "      sq ft_scaled  bedrooms_scaled  bathrooms_scaled  toilets_scaled\n",
       "apt                                                                  \n",
       "apt0      3.709704         3.464102          1.732051        1.732051\n",
       "apt1      4.364358         3.464102          3.464102        3.464102\n",
       "apt2      5.673665         5.196152          3.464102        3.464102"
      ]
     },
     "execution_count": 6,
     "metadata": {},
     "output_type": "execute_result"
    }
   ],
   "source": [
    "df_apt_scaled.head()"
   ]
  },
  {
   "cell_type": "code",
   "execution_count": 7,
   "id": "412fae99",
   "metadata": {},
   "outputs": [
    {
     "data": {
      "text/plain": [
       "sq ft_scaled        1.0\n",
       "bedrooms_scaled     1.0\n",
       "bathrooms_scaled    1.0\n",
       "toilets_scaled      1.0\n",
       "dtype: float64"
      ]
     },
     "execution_count": 7,
     "metadata": {},
     "output_type": "execute_result"
    }
   ],
   "source": [
    "df_apt_scaled.var()"
   ]
  },
  {
   "cell_type": "code",
   "execution_count": 8,
   "id": "21364de8",
   "metadata": {},
   "outputs": [],
   "source": [
    "# drop toilets column, it is redundant from bathrooms\n",
    "df_apt_scaled.drop('toilets_scaled', axis=1, inplace=True)"
   ]
  },
  {
   "cell_type": "code",
   "execution_count": 9,
   "id": "a7df4e41",
   "metadata": {},
   "outputs": [
    {
     "data": {
      "text/html": [
       "<div>\n",
       "<style scoped>\n",
       "    .dataframe tbody tr th:only-of-type {\n",
       "        vertical-align: middle;\n",
       "    }\n",
       "\n",
       "    .dataframe tbody tr th {\n",
       "        vertical-align: top;\n",
       "    }\n",
       "\n",
       "    .dataframe thead th {\n",
       "        text-align: right;\n",
       "    }\n",
       "</style>\n",
       "<table border=\"1\" class=\"dataframe\">\n",
       "  <thead>\n",
       "    <tr style=\"text-align: right;\">\n",
       "      <th></th>\n",
       "      <th>sq ft_scaled</th>\n",
       "      <th>bedrooms_scaled</th>\n",
       "      <th>bathrooms_scaled</th>\n",
       "    </tr>\n",
       "    <tr>\n",
       "      <th>apt</th>\n",
       "      <th></th>\n",
       "      <th></th>\n",
       "      <th></th>\n",
       "    </tr>\n",
       "  </thead>\n",
       "  <tbody>\n",
       "    <tr>\n",
       "      <th>apt0</th>\n",
       "      <td>3.709704</td>\n",
       "      <td>3.464102</td>\n",
       "      <td>1.732051</td>\n",
       "    </tr>\n",
       "    <tr>\n",
       "      <th>apt1</th>\n",
       "      <td>4.364358</td>\n",
       "      <td>3.464102</td>\n",
       "      <td>3.464102</td>\n",
       "    </tr>\n",
       "    <tr>\n",
       "      <th>apt2</th>\n",
       "      <td>5.673665</td>\n",
       "      <td>5.196152</td>\n",
       "      <td>3.464102</td>\n",
       "    </tr>\n",
       "  </tbody>\n",
       "</table>\n",
       "</div>"
      ],
      "text/plain": [
       "      sq ft_scaled  bedrooms_scaled  bathrooms_scaled\n",
       "apt                                                  \n",
       "apt0      3.709704         3.464102          1.732051\n",
       "apt1      4.364358         3.464102          3.464102\n",
       "apt2      5.673665         5.196152          3.464102"
      ]
     },
     "execution_count": 9,
     "metadata": {},
     "output_type": "execute_result"
    }
   ],
   "source": [
    "# scaled dataframe\n",
    "df_apt_scaled.head()"
   ]
  },
  {
   "cell_type": "code",
   "execution_count": 10,
   "id": "db1e5bf8",
   "metadata": {},
   "outputs": [
    {
     "name": "stdout",
     "output_type": "stream",
     "text": [
      "Distance between apt0 and ap1: 1.8516401995451033\n",
      "Distance between apt1 and apt2: 2.171240593367237\n",
      "Distance between apt0 and apt2: 3.1396087108337016\n"
     ]
    }
   ],
   "source": [
    "# creating apartment vectors\n",
    "vec_apt0 = np.array(df_apt_scaled.iloc[0, :])\n",
    "vec_apt1 = np.array(df_apt_scaled.iloc[1, :])\n",
    "vec_apt2 = np.array(df_apt_scaled.iloc[2, :])\n",
    "\n",
    "# computing distance between apartments\n",
    "dist01 = np.linalg.norm(vec_apt0 - vec_apt1)\n",
    "dist12 = np.linalg.norm(vec_apt1 - vec_apt2)\n",
    "dist02 = np.linalg.norm(vec_apt0 - vec_apt2)\n",
    "\n",
    "# printing distance statements\n",
    "print(f'Distance between apt0 and ap1: {dist01}')\n",
    "print(f'Distance between apt1 and apt2: {dist12}')\n",
    "print(f'Distance between apt0 and apt2: {dist02}')"
   ]
  },
  {
   "cell_type": "markdown",
   "id": "composed-beverage",
   "metadata": {},
   "source": [
    "## In Class Assignment 2\n",
    "\n",
    "Build a K-NN classifier which estimates whether a passenger on the titanic `survived` given their `age`, `pclass` and `fare` class.\n",
    "- Discard any passengers which are missing a feature\n",
    "- Be mindful of scale normalization, you may need to adjust data a bit\n",
    "- Show the output of your classification as a confusion matrix plot, as shown above"
   ]
  },
  {
   "cell_type": "code",
   "execution_count": 11,
   "id": "digital-hierarchy",
   "metadata": {
    "scrolled": false
   },
   "outputs": [
    {
     "data": {
      "text/html": [
       "<div>\n",
       "<style scoped>\n",
       "    .dataframe tbody tr th:only-of-type {\n",
       "        vertical-align: middle;\n",
       "    }\n",
       "\n",
       "    .dataframe tbody tr th {\n",
       "        vertical-align: top;\n",
       "    }\n",
       "\n",
       "    .dataframe thead th {\n",
       "        text-align: right;\n",
       "    }\n",
       "</style>\n",
       "<table border=\"1\" class=\"dataframe\">\n",
       "  <thead>\n",
       "    <tr style=\"text-align: right;\">\n",
       "      <th></th>\n",
       "      <th>survived</th>\n",
       "      <th>pclass</th>\n",
       "      <th>sex</th>\n",
       "      <th>age</th>\n",
       "      <th>sibsp</th>\n",
       "      <th>parch</th>\n",
       "      <th>fare</th>\n",
       "      <th>embarked</th>\n",
       "      <th>class</th>\n",
       "      <th>who</th>\n",
       "      <th>adult_male</th>\n",
       "      <th>deck</th>\n",
       "      <th>embark_town</th>\n",
       "      <th>alive</th>\n",
       "      <th>alone</th>\n",
       "    </tr>\n",
       "  </thead>\n",
       "  <tbody>\n",
       "    <tr>\n",
       "      <th>0</th>\n",
       "      <td>0</td>\n",
       "      <td>3</td>\n",
       "      <td>male</td>\n",
       "      <td>22.0</td>\n",
       "      <td>1</td>\n",
       "      <td>0</td>\n",
       "      <td>7.2500</td>\n",
       "      <td>S</td>\n",
       "      <td>Third</td>\n",
       "      <td>man</td>\n",
       "      <td>True</td>\n",
       "      <td>NaN</td>\n",
       "      <td>Southampton</td>\n",
       "      <td>no</td>\n",
       "      <td>False</td>\n",
       "    </tr>\n",
       "    <tr>\n",
       "      <th>1</th>\n",
       "      <td>1</td>\n",
       "      <td>1</td>\n",
       "      <td>female</td>\n",
       "      <td>38.0</td>\n",
       "      <td>1</td>\n",
       "      <td>0</td>\n",
       "      <td>71.2833</td>\n",
       "      <td>C</td>\n",
       "      <td>First</td>\n",
       "      <td>woman</td>\n",
       "      <td>False</td>\n",
       "      <td>C</td>\n",
       "      <td>Cherbourg</td>\n",
       "      <td>yes</td>\n",
       "      <td>False</td>\n",
       "    </tr>\n",
       "    <tr>\n",
       "      <th>2</th>\n",
       "      <td>1</td>\n",
       "      <td>3</td>\n",
       "      <td>female</td>\n",
       "      <td>26.0</td>\n",
       "      <td>0</td>\n",
       "      <td>0</td>\n",
       "      <td>7.9250</td>\n",
       "      <td>S</td>\n",
       "      <td>Third</td>\n",
       "      <td>woman</td>\n",
       "      <td>False</td>\n",
       "      <td>NaN</td>\n",
       "      <td>Southampton</td>\n",
       "      <td>yes</td>\n",
       "      <td>True</td>\n",
       "    </tr>\n",
       "    <tr>\n",
       "      <th>3</th>\n",
       "      <td>1</td>\n",
       "      <td>1</td>\n",
       "      <td>female</td>\n",
       "      <td>35.0</td>\n",
       "      <td>1</td>\n",
       "      <td>0</td>\n",
       "      <td>53.1000</td>\n",
       "      <td>S</td>\n",
       "      <td>First</td>\n",
       "      <td>woman</td>\n",
       "      <td>False</td>\n",
       "      <td>C</td>\n",
       "      <td>Southampton</td>\n",
       "      <td>yes</td>\n",
       "      <td>False</td>\n",
       "    </tr>\n",
       "    <tr>\n",
       "      <th>4</th>\n",
       "      <td>0</td>\n",
       "      <td>3</td>\n",
       "      <td>male</td>\n",
       "      <td>35.0</td>\n",
       "      <td>0</td>\n",
       "      <td>0</td>\n",
       "      <td>8.0500</td>\n",
       "      <td>S</td>\n",
       "      <td>Third</td>\n",
       "      <td>man</td>\n",
       "      <td>True</td>\n",
       "      <td>NaN</td>\n",
       "      <td>Southampton</td>\n",
       "      <td>no</td>\n",
       "      <td>True</td>\n",
       "    </tr>\n",
       "  </tbody>\n",
       "</table>\n",
       "</div>"
      ],
      "text/plain": [
       "   survived  pclass     sex   age  sibsp  parch     fare embarked  class  \\\n",
       "0         0       3    male  22.0      1      0   7.2500        S  Third   \n",
       "1         1       1  female  38.0      1      0  71.2833        C  First   \n",
       "2         1       3  female  26.0      0      0   7.9250        S  Third   \n",
       "3         1       1  female  35.0      1      0  53.1000        S  First   \n",
       "4         0       3    male  35.0      0      0   8.0500        S  Third   \n",
       "\n",
       "     who  adult_male deck  embark_town alive  alone  \n",
       "0    man        True  NaN  Southampton    no  False  \n",
       "1  woman       False    C    Cherbourg   yes  False  \n",
       "2  woman       False  NaN  Southampton   yes   True  \n",
       "3  woman       False    C  Southampton   yes  False  \n",
       "4    man        True  NaN  Southampton    no   True  "
      ]
     },
     "execution_count": 11,
     "metadata": {},
     "output_type": "execute_result"
    }
   ],
   "source": [
    "import seaborn as sns\n",
    "\n",
    "df_titanic = sns.load_dataset('titanic')\n",
    "df_titanic.head()"
   ]
  },
  {
   "cell_type": "code",
   "execution_count": 12,
   "id": "4b64d98d",
   "metadata": {},
   "outputs": [],
   "source": [
    "# drop NaN values\n",
    "df_titanic.dropna(how='any', inplace=True)\n",
    "df_titanic.drop(['sex', 'sibsp', 'parch', 'embarked', 'class', 'who', 'adult_male',\n",
    "                'deck', 'embark_town', 'alive', 'alone'], axis=1, inplace=True)"
   ]
  },
  {
   "cell_type": "code",
   "execution_count": 13,
   "id": "108d115c",
   "metadata": {},
   "outputs": [],
   "source": [
    "# initializing empty dataframe\n",
    "df_titanic_scaled = pd.DataFrame()\n",
    "\n",
    "# scaling dataframe\n",
    "for col in df_titanic.columns:\n",
    "    df_titanic_scaled[f'{col}_scaled'] = df_titanic[col] / df_titanic[col].std()"
   ]
  },
  {
   "cell_type": "code",
   "execution_count": 14,
   "id": "ff822732",
   "metadata": {},
   "outputs": [],
   "source": [
    "from sklearn.neighbors import KNeighborsClassifier\n",
    "\n",
    "k = 5\n",
    "x_feat_list = ['age', 'pclass', 'fare']\n",
    "y_feat = 'survived'\n",
    "\n",
    "x = df_titanic.loc[:, x_feat_list].values\n",
    "y_true = df_titanic.loc[:, y_feat].values\n",
    "\n",
    "# initialize a knn_classifier\n",
    "knn_classifier = KNeighborsClassifier(n_neighbors=k)\n",
    "\n",
    "# fit happens \"inplace\", we modify the internal state of knn_classifier to remember all the training samples\n",
    "knn_classifier.fit(x, y_true)\n",
    "\n",
    "# estimate each penguin's species\n",
    "y_pred = knn_classifier.predict(x)"
   ]
  },
  {
   "cell_type": "code",
   "execution_count": 15,
   "id": "dfb2a8ca",
   "metadata": {},
   "outputs": [
    {
     "data": {
      "text/plain": [
       "[(1, 1), (1, 1), (0, 0), (1, 1), (1, 0)]"
      ]
     },
     "execution_count": 15,
     "metadata": {},
     "output_type": "execute_result"
    }
   ],
   "source": [
    "# zip together list of (truth, predict) pairs\n",
    "true_pred_list = list(zip(y_true, y_pred))\n",
    "true_pred_list[:5]"
   ]
  },
  {
   "cell_type": "code",
   "execution_count": 16,
   "id": "72bbeeab",
   "metadata": {},
   "outputs": [
    {
     "data": {
      "text/plain": [
       "Counter({(1, 1): 114, (0, 0): 21, (1, 0): 9, (0, 1): 38})"
      ]
     },
     "execution_count": 16,
     "metadata": {},
     "output_type": "execute_result"
    }
   ],
   "source": [
    "from collections import Counter\n",
    "\n",
    "# one way of getting a sense of how well we did\n",
    "Counter(true_pred_list)"
   ]
  },
  {
   "cell_type": "code",
   "execution_count": 17,
   "id": "922d77cd",
   "metadata": {},
   "outputs": [
    {
     "data": {
      "text/plain": [
       "array([[ 21,  38],\n",
       "       [  9, 114]])"
      ]
     },
     "execution_count": 17,
     "metadata": {},
     "output_type": "execute_result"
    }
   ],
   "source": [
    "from sklearn.metrics import confusion_matrix\n",
    "from sklearn.metrics import ConfusionMatrixDisplay\n",
    "import numpy as np\n",
    "\n",
    "conf_mat = confusion_matrix(y_true=y_true, y_pred=y_pred)\n",
    "\n",
    "# examine confusion matri\n",
    "conf_mat"
   ]
  },
  {
   "cell_type": "code",
   "execution_count": 18,
   "id": "82d47cd0",
   "metadata": {},
   "outputs": [],
   "source": [
    "import matplotlib.pyplot as plt\n",
    "import plotly.express as px"
   ]
  },
  {
   "cell_type": "code",
   "execution_count": 19,
   "id": "944bd1ec",
   "metadata": {},
   "outputs": [
    {
     "data": {
      "image/png": "[encoded data removed]",
      "text/plain": [
       "<Figure size 720x720 with 2 Axes>"
      ]
     },
     "metadata": {
      "needs_background": "light"
     },
     "output_type": "display_data"
    }
   ],
   "source": [
    "conf_mat_disp = ConfusionMatrixDisplay(conf_mat, display_labels=np.unique(y_true))\n",
    "conf_mat_disp.plot()\n",
    "\n",
    "plt.gcf().set_size_inches(10, 10)\n",
    "\n",
    "# seaborn turns on grid by default ... looks best without it\n",
    "plt.grid(False)"
   ]
  },
  {
   "cell_type": "code",
   "execution_count": null,
   "id": "b38d2252",
   "metadata": {},
   "outputs": [],
   "source": []
  }
 ],
 "metadata": {
  "kernelspec": {
   "display_name": "Python 3 (ipykernel)",
   "language": "python",
   "name": "python3"
  },
  "language_info": {
   "codemirror_mode": {
    "name": "ipython",
    "version": 3
   },
   "file_extension": ".py",
   "mimetype": "text/x-python",
   "name": "python",
   "nbconvert_exporter": "python",
   "pygments_lexer": "ipython3",
   "version": "3.8.10"
  }
 },
 "nbformat": 4,
 "nbformat_minor": 5
}
