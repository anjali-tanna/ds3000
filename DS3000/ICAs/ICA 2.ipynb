{
 "cells": [
  {
   "cell_type": "markdown",
   "id": "9745bcb7",
   "metadata": {},
   "source": [
    "# ICA 2"
   ]
  },
  {
   "cell_type": "markdown",
   "id": "5417a7fd",
   "metadata": {},
   "source": [
    "# Problem 1"
   ]
  },
  {
   "cell_type": "code",
   "execution_count": 1,
   "id": "bcec8ab5",
   "metadata": {},
   "outputs": [],
   "source": [
    "# dictionary for wheels on the bus nouns and their noises\n",
    "bus_dict = {'Wheels': 'round and round', \n",
    "            'Babies': 'wah wah wah', \n",
    "            'DS3000 students': 'we <3 python, we <3 python, we <3 python'}"
   ]
  },
  {
   "cell_type": "code",
   "execution_count": 2,
   "id": "be252a42",
   "metadata": {},
   "outputs": [
    {
     "name": "stdout",
     "output_type": "stream",
     "text": [
      "The Wheels on the bus goes round and round, round and round, round and round\n",
      "The Wheels on the bus go round and round ... All through the town\n",
      "The Babies on the bus goes wah wah wah, wah wah wah, wah wah wah\n",
      "The Babies on the bus go wah wah wah ... All through the town\n",
      "The DS3000 students on the bus goes we <3 python, we <3 python, we <3 python, we <3 python, we <3 python, we <3 python, we <3 python, we <3 python, we <3 python\n",
      "The DS3000 students on the bus go we <3 python, we <3 python, we <3 python ... All through the town\n"
     ]
    }
   ],
   "source": [
    "for noun, noise in bus_dict.items():\n",
    "    # sing verse\n",
    "    print(f'The {noun} on the bus goes {noise}, {noise}, {noise}')\n",
    "    print(f'The {noun} on the bus go {noise} ... All through the town')"
   ]
  },
  {
   "cell_type": "markdown",
   "id": "8b3f8114",
   "metadata": {},
   "source": [
    "# Another way to do it"
   ]
  },
  {
   "cell_type": "code",
   "execution_count": 3,
   "id": "4c35bc6a",
   "metadata": {},
   "outputs": [
    {
     "name": "stdout",
     "output_type": "stream",
     "text": [
      "The Wheels on the bus goes round and round, round and round, round and round\n",
      "The Wheels on the bus goes round and round ... All through the town\n",
      "The Babies on the bus goes wah wah wah, wah wah wah, wah wah wah\n",
      "The Babies on the bus goes wah wah wah ... All through the town\n",
      "The DS3000 students on the bus goes we <3 python, we <3 python, we <3 python, we <3 python, we <3 python, we <3 python, we <3 python, we <3 python, we <3 python\n",
      "The DS3000 students on the bus goes we <3 python, we <3 python, we <3 python ... All through the town\n"
     ]
    }
   ],
   "source": [
    "noun_noise = {'Wheels': 'round and round', \n",
    "              'Babies': 'wah wah wah', \n",
    "              'DS3000 students': 'we <3 python, we <3 python, we <3 python'}\n",
    "\n",
    "for key in noun_noise.keys():\n",
    "    noise = noun_noise[key]\n",
    "    # sing verse\n",
    "    print(f'The {key} on the bus goes {noise}, {noise}, {noise}')\n",
    "    print(f'The {key} on the bus goes {noise} ... All through the town')\n",
    "    "
   ]
  },
  {
   "cell_type": "markdown",
   "id": "3aaabb80",
   "metadata": {},
   "source": [
    "# Problem 2"
   ]
  },
  {
   "cell_type": "code",
   "execution_count": 4,
   "id": "0f5d1c3e",
   "metadata": {},
   "outputs": [],
   "source": [
    "# Terrible fuction"
   ]
  },
  {
   "cell_type": "code",
   "execution_count": 5,
   "id": "34ebf7a4",
   "metadata": {},
   "outputs": [],
   "source": [
    "def MYfunction(someINput, AnotherInput):\n",
    "    # someINPUT is the user's name\n",
    "    # ANotherINput is their preferred greeting\n",
    "    # function should say `GREETING NAME!` unless the \n",
    "    # greeting is a high five, and then it says:\n",
    "    # I'm sorry NAME, I'm only a computer I can't high 5\n",
    "    # function has no return values, it just prints\n",
    "    \n",
    "    if AnotherInput == 'high five':\n",
    "        print(f'Im sorry {someINput}, Im only a computer I cant high 5')\n",
    "    else:\n",
    "        print(f'{AnotherInput} {someINput}!')"
   ]
  },
  {
   "cell_type": "code",
   "execution_count": 6,
   "id": "e3399479",
   "metadata": {},
   "outputs": [],
   "source": [
    "# My attempt"
   ]
  },
  {
   "cell_type": "code",
   "execution_count": 7,
   "id": "faf6f602",
   "metadata": {},
   "outputs": [],
   "source": [
    "def greeting_name(name, greeting):\n",
    "    \"\"\" greets a person \n",
    "    \n",
    "    Args:\n",
    "        name (str): user's name\n",
    "        greeting (str): preferred greeting\n",
    "        \n",
    "    Return:\n",
    "        None\n",
    "    \"\"\"\n",
    "    \n",
    "    if greeting == 'high five':\n",
    "        print(f'Im sorry {name}, Im only a computer I cant high 5')\n",
    "    else:\n",
    "        print(f'{greeting} {name}!')"
   ]
  },
  {
   "cell_type": "code",
   "execution_count": 8,
   "id": "06606625",
   "metadata": {},
   "outputs": [
    {
     "name": "stdout",
     "output_type": "stream",
     "text": [
      "hey Anjali!\n"
     ]
    }
   ],
   "source": [
    "greeting_name('Anjali', 'hey')"
   ]
  },
  {
   "cell_type": "markdown",
   "id": "c01a9c51",
   "metadata": {},
   "source": [
    "# Problem 3"
   ]
  },
  {
   "cell_type": "code",
   "execution_count": 13,
   "id": "441553b4",
   "metadata": {},
   "outputs": [],
   "source": [
    "# build card list\n",
    "card_list = list()\n",
    "for suit in ['sp', 'he', 'cl', 'di']:\n",
    "    for card in ['A', 1, 2, 3, 4, 5, 6, 7, 8, 9, 10, 'J', 'Q', 'K']:\n",
    "        card_list.append(str(card) + '_' + suit)"
   ]
  },
  {
   "cell_type": "code",
   "execution_count": 20,
   "id": "4b0bfdb4",
   "metadata": {},
   "outputs": [
    {
     "data": {
      "text/plain": [
       "['9_sp', 'K_cl', '6_di', 'A_he', '3_cl']"
      ]
     },
     "execution_count": 20,
     "metadata": {},
     "output_type": "execute_result"
    }
   ],
   "source": [
    "import random\n",
    "\n",
    "# draws 5 random cards without replacement \n",
    "# same card cannot be picked twice\n",
    "# 5 cards are unique\n",
    "rand_cards = random.sample(card_list, 5)\n",
    "rand_cards"
   ]
  },
  {
   "cell_type": "code",
   "execution_count": null,
   "id": "8ac4eac7",
   "metadata": {},
   "outputs": [],
   "source": []
  }
 ],
 "metadata": {
  "kernelspec": {
   "display_name": "Python 3 (ipykernel)",
   "language": "python",
   "name": "python3"
  },
  "language_info": {
   "codemirror_mode": {
    "name": "ipython",
    "version": 3
   },
   "file_extension": ".py",
   "mimetype": "text/x-python",
   "name": "python",
   "nbconvert_exporter": "python",
   "pygments_lexer": "ipython3",
   "version": "3.8.10"
  }
 },
 "nbformat": 4,
 "nbformat_minor": 5
}
