{
 "cells": [
  {
   "cell_type": "markdown",
   "id": "62fac588",
   "metadata": {
    "slideshow": {
     "slide_type": "slide"
    }
   },
   "source": [
    "# In Class Exercise 1\n",
    "\n",
    "Introduce yourself to your neighbors by writing a quick markdown biography of yourself.  Be sure to use:\n",
    "- 2 different heading levels\n",
    "- a markdown table\n",
    "- a list\n",
    "- a link to some website\n",
    "- an image\n",
    "    - avoid pictures of yourself please\n",
    "    - link to something available online, see example above\n",
    "\n",
    "You're welcome to be funny, this is really an excuse to get warmed up with jupyter and markdown and meet each other.  \n",
    "\n",
    "When you're done, swap laptops with 2 classmates who will add their own silly positive review, praising and encouraging whatever you've shared.  \n",
    "\n",
    "Please be mindful:\n",
    "- everything you share should make all classmates feel safe and welcome\n",
    "- your response should be positive, take the moment to make somebody else smile and feel good :)"
   ]
  },
  {
   "cell_type": "markdown",
   "id": "b10393ba",
   "metadata": {
    "slideshow": {
     "slide_type": "slide"
    }
   },
   "source": [
    "# Anjali Tanna\n",
    "### Data Science & Behavioral Neuroscience \n",
    "### Second-Year\n",
    "\n",
    "| About Me       | Answer         |\n",
    "|----------------|----------------|\n",
    "| Age            | 20             |\n",
    "| Birthday       | 12/02/2001     |\n",
    "| Favorite Color | Purple         |\n",
    "| Hometown       | Shrewsbury, MA |\n",
    "\n",
    "Some things about me:\n",
    "- I have a yellow lab puppy named Milo\n",
    "- I like to paint\n",
    "- I was a swimmer in high school\n",
    "\n",
    "[DS3000 Canvas](https://northeastern.instructure.com/courses/99611)\n",
    "\n",
    "![Picture](https://cdn.shopify.com/s/files/1/0272/4770/6214/articles/when-do-puppies-start-walking.jpg?v=1593020034)\n"
   ]
  }
 ],
 "metadata": {
  "celltoolbar": "Slideshow",
  "kernelspec": {
   "display_name": "Python 3 (ipykernel)",
   "language": "python",
   "name": "python3"
  },
  "language_info": {
   "codemirror_mode": {
    "name": "ipython",
    "version": 3
   },
   "file_extension": ".py",
   "mimetype": "text/x-python",
   "name": "python",
   "nbconvert_exporter": "python",
   "pygments_lexer": "ipython3",
   "version": "3.8.10"
  }
 },
 "nbformat": 4,
 "nbformat_minor": 5
}
