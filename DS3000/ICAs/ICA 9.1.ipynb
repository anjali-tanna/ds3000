{
 "cells": [
  {
   "cell_type": "markdown",
   "metadata": {
    "slideshow": {
     "slide_type": "slide"
    }
   },
   "source": [
    "# In Class Activity 1\n",
    "\n",
    "Write a few 'empty' functions including little more than the docstring:\n",
    "\n",
    "```python\n",
    "def some_fnc(a_string, a_list):\n",
    "    \"\"\" processes a string and a list (somehow)\n",
    "    \n",
    "    Args:\n",
    "        a_string (str): an input string which ...\n",
    "        a_list (list): a list which describes ...\n",
    "        \n",
    "    Returns:\n",
    "        output (dict): the output dict which is ...\n",
    "    \"\"\"\n",
    "    pass\n",
    "```\n",
    "\n",
    "and a script which uses them:\n",
    "\n",
    "```python\n",
    "# inputs (not necessarily complete)\n",
    "lat = -42\n",
    "lon = 73\n",
    "\n",
    "some_output = some_fnc(lat, lon)\n",
    "some_other_output = some_other_fnc(some_output)\n",
    "\n",
    "```\n",
    "\n",
    "which would, if the functions worked, produce the following graph:\n",
    "\n",
    "<img src=\"https://i.ibb.co/8j6VqqG/scatter.png\" width=500\\img>"
   ]
  },
  {
   "cell_type": "code",
   "execution_count": 1,
   "metadata": {},
   "outputs": [],
   "source": [
    "api_key = 'a09fbc60af08d36a8942789ae2864dab'\n",
    "\n",
    "def openweather_api_onecall(api_key, units, lat, lon):\n",
    "    \"\"\" returns weather data from api\n",
    "\n",
    "    Args:\n",
    "        api_key (str): key to access data\n",
    "        units (str): units of the data\n",
    "        lat (float): the latitude of the location\n",
    "        lon (float): the longitude of the location\n",
    "\n",
    "    Returns:\n",
    "        json (str): json with the data from openweather onecall\n",
    "    \"\"\"\n",
    "    pass\n"
   ]
  },
  {
   "cell_type": "code",
   "execution_count": 2,
   "metadata": {},
   "outputs": [],
   "source": [
    "def json_to_dataframe(json):\n",
    "    \"\"\" formats json into a pandas dataframre\n",
    "\n",
    "    Args:\n",
    "        json (str): json with the weather data\n",
    "\n",
    "    Returns:\n",
    "        df (pd.DataFrame): weather data as a pandas DataFrame\n",
    "    \"\"\"\n",
    "    pass"
   ]
  },
  {
   "cell_type": "code",
   "execution_count": 3,
   "metadata": {},
   "outputs": [],
   "source": [
    "def scatter_plot(df, x, y):\n",
    "    \"\"\" creates a data visualization from the datafram\n",
    "\n",
    "    Args:\n",
    "        df (pd.DataFrame): pandas dataframe\n",
    "        x (str): x axis of scatter\n",
    "        y (str): y axis of scatter\n",
    "\n",
    "    Returns:\n",
    "        fig (plt.Figure): handle of the figure created\n",
    "    \"\"\"\n",
    "    pass"
   ]
  }
 ],
 "metadata": {
  "celltoolbar": "Slideshow",
  "kernelspec": {
   "display_name": "Python 3 (ipykernel)",
   "language": "python",
   "name": "python3"
  },
  "language_info": {
   "codemirror_mode": {
    "name": "ipython",
    "version": 3
   },
   "file_extension": ".py",
   "mimetype": "text/x-python",
   "name": "python",
   "nbconvert_exporter": "python",
   "pygments_lexer": "ipython3",
   "version": "3.8.10"
  }
 },
 "nbformat": 4,
 "nbformat_minor": 4
}
