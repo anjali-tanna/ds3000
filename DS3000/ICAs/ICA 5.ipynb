{
 "cells": [
  {
   "cell_type": "markdown",
   "id": "038bce46",
   "metadata": {},
   "source": [
    "# ICA 5"
   ]
  },
  {
   "cell_type": "markdown",
   "id": "742b25e7",
   "metadata": {},
   "source": [
    "## Problem 1"
   ]
  },
  {
   "cell_type": "code",
   "execution_count": 1,
   "id": "df71e9f7",
   "metadata": {},
   "outputs": [],
   "source": [
    "import pandas as pd\n",
    "\n",
    "df_bikes = pd.read_csv('201909-bluebike-clean.zip')"
   ]
  },
  {
   "cell_type": "code",
   "execution_count": 2,
   "id": "27d762d6",
   "metadata": {},
   "outputs": [
    {
     "data": {
      "text/html": [
       "<div>\n",
       "<style scoped>\n",
       "    .dataframe tbody tr th:only-of-type {\n",
       "        vertical-align: middle;\n",
       "    }\n",
       "\n",
       "    .dataframe tbody tr th {\n",
       "        vertical-align: top;\n",
       "    }\n",
       "\n",
       "    .dataframe thead th {\n",
       "        text-align: right;\n",
       "    }\n",
       "</style>\n",
       "<table border=\"1\" class=\"dataframe\">\n",
       "  <thead>\n",
       "    <tr style=\"text-align: right;\">\n",
       "      <th></th>\n",
       "      <th>Unnamed: 0</th>\n",
       "      <th>tripduration</th>\n",
       "      <th>starttime</th>\n",
       "      <th>startday</th>\n",
       "      <th>starthour</th>\n",
       "      <th>dayofweek</th>\n",
       "      <th>distance</th>\n",
       "      <th>start station id</th>\n",
       "      <th>start station name</th>\n",
       "      <th>start station latitude</th>\n",
       "      <th>start station longitude</th>\n",
       "      <th>end station id</th>\n",
       "      <th>end station name</th>\n",
       "      <th>end station latitude</th>\n",
       "      <th>end station longitude</th>\n",
       "    </tr>\n",
       "  </thead>\n",
       "  <tbody>\n",
       "    <tr>\n",
       "      <th>0</th>\n",
       "      <td>0</td>\n",
       "      <td>916</td>\n",
       "      <td>2019-09-01 00:00:21.2560</td>\n",
       "      <td>2019-09-01</td>\n",
       "      <td>0</td>\n",
       "      <td>6</td>\n",
       "      <td>1.144749</td>\n",
       "      <td>9</td>\n",
       "      <td>Commonwealth Ave at Agganis Way</td>\n",
       "      <td>42.351692</td>\n",
       "      <td>-71.119035</td>\n",
       "      <td>33</td>\n",
       "      <td>Kenmore Square</td>\n",
       "      <td>42.348706</td>\n",
       "      <td>-71.097009</td>\n",
       "    </tr>\n",
       "    <tr>\n",
       "      <th>1</th>\n",
       "      <td>1</td>\n",
       "      <td>394</td>\n",
       "      <td>2019-09-01 00:00:33.0140</td>\n",
       "      <td>2019-09-01</td>\n",
       "      <td>0</td>\n",
       "      <td>6</td>\n",
       "      <td>0.858182</td>\n",
       "      <td>189</td>\n",
       "      <td>Kendall T</td>\n",
       "      <td>42.362428</td>\n",
       "      <td>-71.084955</td>\n",
       "      <td>178</td>\n",
       "      <td>MIT Pacific St at Purrington St</td>\n",
       "      <td>42.359573</td>\n",
       "      <td>-71.101295</td>\n",
       "    </tr>\n",
       "    <tr>\n",
       "      <th>2</th>\n",
       "      <td>2</td>\n",
       "      <td>480</td>\n",
       "      <td>2019-09-01 00:00:52.4870</td>\n",
       "      <td>2019-09-01</td>\n",
       "      <td>0</td>\n",
       "      <td>6</td>\n",
       "      <td>0.556982</td>\n",
       "      <td>9</td>\n",
       "      <td>Commonwealth Ave at Agganis Way</td>\n",
       "      <td>42.351692</td>\n",
       "      <td>-71.119035</td>\n",
       "      <td>10</td>\n",
       "      <td>B.U. Central - 725 Comm. Ave.</td>\n",
       "      <td>42.350406</td>\n",
       "      <td>-71.108279</td>\n",
       "    </tr>\n",
       "    <tr>\n",
       "      <th>3</th>\n",
       "      <td>3</td>\n",
       "      <td>800</td>\n",
       "      <td>2019-09-01 00:01:05.5390</td>\n",
       "      <td>2019-09-01</td>\n",
       "      <td>0</td>\n",
       "      <td>6</td>\n",
       "      <td>1.912004</td>\n",
       "      <td>46</td>\n",
       "      <td>Christian Science Plaza - Massachusetts Ave at...</td>\n",
       "      <td>42.343666</td>\n",
       "      <td>-71.085824</td>\n",
       "      <td>199</td>\n",
       "      <td>Upham's Corner T Stop - Magnolia St at Dudley St</td>\n",
       "      <td>42.318697</td>\n",
       "      <td>-71.069781</td>\n",
       "    </tr>\n",
       "    <tr>\n",
       "      <th>4</th>\n",
       "      <td>4</td>\n",
       "      <td>758</td>\n",
       "      <td>2019-09-01 00:01:13.4250</td>\n",
       "      <td>2019-09-01</td>\n",
       "      <td>0</td>\n",
       "      <td>6</td>\n",
       "      <td>1.224275</td>\n",
       "      <td>56</td>\n",
       "      <td>Dudley Square - Dudley St at Warren St</td>\n",
       "      <td>42.329843</td>\n",
       "      <td>-71.083866</td>\n",
       "      <td>55</td>\n",
       "      <td>Boylston St at Massachusetts Ave</td>\n",
       "      <td>42.347265</td>\n",
       "      <td>-71.088088</td>\n",
       "    </tr>\n",
       "  </tbody>\n",
       "</table>\n",
       "</div>"
      ],
      "text/plain": [
       "   Unnamed: 0  tripduration                 starttime    startday  starthour  \\\n",
       "0           0           916  2019-09-01 00:00:21.2560  2019-09-01          0   \n",
       "1           1           394  2019-09-01 00:00:33.0140  2019-09-01          0   \n",
       "2           2           480  2019-09-01 00:00:52.4870  2019-09-01          0   \n",
       "3           3           800  2019-09-01 00:01:05.5390  2019-09-01          0   \n",
       "4           4           758  2019-09-01 00:01:13.4250  2019-09-01          0   \n",
       "\n",
       "   dayofweek  distance  start station id  \\\n",
       "0          6  1.144749                 9   \n",
       "1          6  0.858182               189   \n",
       "2          6  0.556982                 9   \n",
       "3          6  1.912004                46   \n",
       "4          6  1.224275                56   \n",
       "\n",
       "                                  start station name  start station latitude  \\\n",
       "0                    Commonwealth Ave at Agganis Way               42.351692   \n",
       "1                                          Kendall T               42.362428   \n",
       "2                    Commonwealth Ave at Agganis Way               42.351692   \n",
       "3  Christian Science Plaza - Massachusetts Ave at...               42.343666   \n",
       "4             Dudley Square - Dudley St at Warren St               42.329843   \n",
       "\n",
       "   start station longitude  end station id  \\\n",
       "0               -71.119035              33   \n",
       "1               -71.084955             178   \n",
       "2               -71.119035              10   \n",
       "3               -71.085824             199   \n",
       "4               -71.083866              55   \n",
       "\n",
       "                                   end station name  end station latitude  \\\n",
       "0                                    Kenmore Square             42.348706   \n",
       "1                   MIT Pacific St at Purrington St             42.359573   \n",
       "2                     B.U. Central - 725 Comm. Ave.             42.350406   \n",
       "3  Upham's Corner T Stop - Magnolia St at Dudley St             42.318697   \n",
       "4                  Boylston St at Massachusetts Ave             42.347265   \n",
       "\n",
       "   end station longitude  \n",
       "0             -71.097009  \n",
       "1             -71.101295  \n",
       "2             -71.108279  \n",
       "3             -71.069781  \n",
       "4             -71.088088  "
      ]
     },
     "execution_count": 2,
     "metadata": {},
     "output_type": "execute_result"
    }
   ],
   "source": [
    "df_bikes.head()"
   ]
  },
  {
   "cell_type": "code",
   "execution_count": 3,
   "id": "adf3d5dc",
   "metadata": {},
   "outputs": [
    {
     "data": {
      "text/plain": [
       "(361143, 15)"
      ]
     },
     "execution_count": 3,
     "metadata": {},
     "output_type": "execute_result"
    }
   ],
   "source": [
    "# how many bike trips are in the dataset total\n",
    "df_bikes.shape"
   ]
  },
  {
   "cell_type": "code",
   "execution_count": 4,
   "id": "f94e4fac",
   "metadata": {},
   "outputs": [
    {
     "data": {
      "text/plain": [
       "361143"
      ]
     },
     "execution_count": 4,
     "metadata": {},
     "output_type": "execute_result"
    }
   ],
   "source": [
    "# how many bike trips are in the dataset total\n",
    "len(df_bikes)"
   ]
  },
  {
   "cell_type": "code",
   "execution_count": 5,
   "id": "13cd1305",
   "metadata": {},
   "outputs": [
    {
     "data": {
      "text/plain": [
       "['2019-09-01',\n",
       " '2019-09-02',\n",
       " '2019-09-03',\n",
       " '2019-09-04',\n",
       " '2019-09-05',\n",
       " '2019-09-06',\n",
       " '2019-09-07',\n",
       " '2019-09-08',\n",
       " '2019-09-09',\n",
       " '2019-09-10',\n",
       " '2019-09-11',\n",
       " '2019-09-12',\n",
       " '2019-09-13',\n",
       " '2019-09-14',\n",
       " '2019-09-15',\n",
       " '2019-09-16',\n",
       " '2019-09-17',\n",
       " '2019-09-18',\n",
       " '2019-09-19',\n",
       " '2019-09-20',\n",
       " '2019-09-21',\n",
       " '2019-09-22',\n",
       " '2019-09-23',\n",
       " '2019-09-24',\n",
       " '2019-09-25',\n",
       " '2019-09-26',\n",
       " '2019-09-27',\n",
       " '2019-09-28',\n",
       " '2019-09-29',\n",
       " '2019-09-30']"
      ]
     },
     "execution_count": 5,
     "metadata": {},
     "output_type": "execute_result"
    }
   ],
   "source": [
    "# what period of time does the data represent\n",
    "sorted(df_bikes['startday'].unique())"
   ]
  },
  {
   "cell_type": "code",
   "execution_count": 6,
   "id": "0da52892",
   "metadata": {},
   "outputs": [
    {
     "data": {
      "text/plain": [
       "328"
      ]
     },
     "execution_count": 6,
     "metadata": {},
     "output_type": "execute_result"
    }
   ],
   "source": [
    "# how many different stations did users start at\n",
    "df_bikes_start_stations = df_bikes['start station name'].unique()\n",
    "len(df_bikes_start_stations)"
   ]
  },
  {
   "cell_type": "code",
   "execution_count": 7,
   "id": "6cc66d1b",
   "metadata": {
    "scrolled": true
   },
   "outputs": [
    {
     "data": {
      "text/plain": [
       "42.35702935987539"
      ]
     },
     "execution_count": 7,
     "metadata": {},
     "output_type": "execute_result"
    }
   ],
   "source": [
    "# what was the average latitude for a starting station\n",
    "df_bikes['start station latitude'].mean()"
   ]
  },
  {
   "cell_type": "code",
   "execution_count": 8,
   "id": "a14047c4",
   "metadata": {},
   "outputs": [
    {
     "data": {
      "text/plain": [
       "-71.08852011303388"
      ]
     },
     "execution_count": 8,
     "metadata": {},
     "output_type": "execute_result"
    }
   ],
   "source": [
    "# what was the average longitude for a starting station\n",
    "df_bikes['start station longitude'].mean()"
   ]
  },
  {
   "cell_type": "code",
   "execution_count": 9,
   "id": "8a128326",
   "metadata": {},
   "outputs": [
    {
     "data": {
      "text/plain": [
       "0         6\n",
       "1         6\n",
       "2         6\n",
       "3         6\n",
       "4         6\n",
       "         ..\n",
       "361138    0\n",
       "361139    0\n",
       "361140    0\n",
       "361141    0\n",
       "361142    0\n",
       "Name: dayofweek, Length: 361143, dtype: int64"
      ]
     },
     "execution_count": 9,
     "metadata": {},
     "output_type": "execute_result"
    }
   ],
   "source": [
    "# how many bike trips are taken on a typical day\n",
    "df_bikes_weekday = df_bikes.loc[:, 'dayofweek']\n",
    "df_bikes_weekday"
   ]
  },
  {
   "cell_type": "code",
   "execution_count": 10,
   "id": "8eb65a71",
   "metadata": {},
   "outputs": [
    {
     "data": {
      "text/plain": [
       "57932"
      ]
     },
     "execution_count": 10,
     "metadata": {},
     "output_type": "execute_result"
    }
   ],
   "source": [
    "# total number of mondays\n",
    "len(df_bikes.loc[df_bikes_weekday == 0, :])"
   ]
  },
  {
   "cell_type": "code",
   "execution_count": 11,
   "id": "5434b06e",
   "metadata": {},
   "outputs": [
    {
     "data": {
      "text/plain": [
       "57932"
      ]
     },
     "execution_count": 11,
     "metadata": {},
     "output_type": "execute_result"
    }
   ],
   "source": [
    "# total number of mondays \n",
    "(df_bikes['dayofweek'] == 0).sum()"
   ]
  },
  {
   "cell_type": "code",
   "execution_count": null,
   "id": "b237f8b1",
   "metadata": {},
   "outputs": [],
   "source": []
  }
 ],
 "metadata": {
  "kernelspec": {
   "display_name": "Python 3 (ipykernel)",
   "language": "python",
   "name": "python3"
  },
  "language_info": {
   "codemirror_mode": {
    "name": "ipython",
    "version": 3
   },
   "file_extension": ".py",
   "mimetype": "text/x-python",
   "name": "python",
   "nbconvert_exporter": "python",
   "pygments_lexer": "ipython3",
   "version": "3.8.10"
  }
 },
 "nbformat": 4,
 "nbformat_minor": 5
}
