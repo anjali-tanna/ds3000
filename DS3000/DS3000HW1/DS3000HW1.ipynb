{
 "cells": [
  {
   "cell_type": "markdown",
   "metadata": {},
   "source": [
    "# DS 3000 HW 1\n",
    "\n",
    "Due: Tues Feb 02 @ 11:59 PM EST\n",
    "\n",
    "### Submission Instructions\n",
    "Submit this `ipynb` file to [gradescope](https://www.gradescope.com/courses/337250).  To ensure that your submitted `ipynb` file represents your latest code, make sure to give a fresh `Kernel > Restart & Run All` just before uploading the `ipynb` file to gradescope.\n",
    "\n",
    "### Tips for success\n",
    "- Start early\n",
    "- Make use of [Piazza](https://course.ccs.neu.edu/ds3000/admin.html#piazza-discussion-forum)\n",
    "- Make use of [Office Hours](https://course.ccs.neu.edu/ds3000/office_hours.html)\n",
    "    - Office Hours will start Jan 26, I\"ll send an announcement that day and instructions will be complete on the course website\n",
    "- Remember that [Documentation / style counts for credit](https://course.ccs.neu.edu/ds3000/style_guide.html)\n",
    "- Under no circumstances may one student view or share their ungraded homework or quiz with another student [(see also)](https://course.ccs.neu.edu/ds3000/syllabus.html#academic-integrity-and-conduct)"
   ]
  },
  {
   "cell_type": "markdown",
   "metadata": {},
   "source": [
    "# Markdown\n",
    "\n",
    "## Part 1.1 (17 points): \n",
    "Use the markdown language below to create your own brief wikipedia-esque description of any subject of interest. \n",
    "\n",
    "Your mini-wiki page must include:\n",
    "- three headers: a title, subtitle and subsubtitle (the #, ##, ### syntax)\n",
    "- an embedded image from a web address (use an [image hosting site](https://makeawebsitehub.com/free-photo-hosting/) if you'd like to upload your own)\n",
    "- a table of size at least 3 rows x 3 columns (needn't be correct, but must make sense)\n",
    "- a list\n",
    "- a link to another website\n",
    "\n",
    "Please be brief in your text.  Aim for roughly 3 sentences total of text.  We won't grade based on content, but keep it appropriate for class.  If you make the grader smile, no extra credit will be awarded beyond the satisfaction of having made somebody's day better :)"
   ]
  },
  {
   "cell_type": "markdown",
   "metadata": {},
   "source": [
    "# Timothée Chalamet\n",
    "## December 27, 1995 (Age 26)\n",
    "### New York City, U.S.\n",
    "\n",
    "![Timothee Chalamet](https://upload.wikimedia.org/wikipedia/commons/thumb/b/bf/Timothée_Chalamet_2017_Berlinale.jpg/440px-Timothée_Chalamet_2017_Berlinale.jpg)\n",
    "\n",
    "| Year | Title                | Role             | Category   |\n",
    "|------|----------------------|------------------|------------|\n",
    "| 2009 | Law & Order          | Eric Foley       | Television |\n",
    "| 2011 | The Tails            | Nicholas Clarke  | Theatre    |\n",
    "| 2014 | Interstellar         | Young Tom Cooper | Film       |\n",
    "| 2017 | Call Me By Your Name | Elio Pearlman    | Film       |\n",
    "| 2019 | Little Women         | Laurie           | Film       |\n",
    "| 2020 | Graduate Together    | Himself          | Television |\n",
    "| 2021 | Dune                 | Paul Atreides    | Film       |\n",
    "| 2022 | Bones and All        | Lee              | Film       |\n",
    "| 2023 | Wonka                | Willy Wonka      | Film       |\n",
    "\n",
    "### Notable Facts About Timothée Chalamet\n",
    "- he has an older sister named Pauline\n",
    "- he is bilingual in English and French\n",
    "- he attended Columbia University before transferring to New York University\n",
    "- he is a big hip-hop music fan, with Kid Cudi being one of his inspirations\n",
    "\n",
    "[@tchalamet Instagram](https://www.instagram.com/tchalamet/?hl=en)\n"
   ]
  },
  {
   "cell_type": "markdown",
   "metadata": {},
   "source": [
    "# Part 1.2\n",
    "\n",
    "In [blackjack](https://en.wikipedia.org/wiki/Blackjack), players are given two cards from a [standard deck](https://en.wikipedia.org/wiki/Standard_52-card_deck#Composition) of cards and add their values together.  Values are assigned to cards as:\n",
    "- number cards use their own value\n",
    "- Jack, Queen, King cards all have a value of 10\n",
    "- aces, in this problem will always have a value of 1\n",
    "\n",
    "Players may then choose to take as many cards as they'd like, one at a time, to increase the sum of their hand's value.  The goal is to produce a value as high as possible without exceeding 21.  When a player's hand sum increases beyond 21 they are said to 'bust' and they lose the game.\n",
    "\n",
    "The key to playing well is knowing when to stop taking cards.  We'll explore this issue by writing a program to have the computer play many hands of blackjack and count how often they bust."
   ]
  },
  {
   "cell_type": "markdown",
   "metadata": {},
   "source": [
    "## Part 1.2.1 (10 points)\n",
    "Complete the function `draw_value()` which accepts no inputs and returns the value of some card drawn from a standard deck of cards.  `random.choices()`, and its `weights` parameter may be helpful here.\n",
    "\n",
    "\n",
    "Assume that you draw cards with replacement, so that its possible to draw the same card many times.  (In practice, this isn't far from the truth as real casinos often draw from a pile of cards containing multiple, shuffled decks to mitigate the effectiveness of [card counting](https://en.wikipedia.org/wiki/Card_counting))."
   ]
  },
  {
   "cell_type": "code",
   "execution_count": 1,
   "metadata": {},
   "outputs": [],
   "source": [
    "import random"
   ]
  },
  {
   "cell_type": "code",
   "execution_count": 2,
   "metadata": {},
   "outputs": [],
   "source": [
    "# draw_value() draws a random value from a deck of cards\n",
    "# number cards use their own value, ace has a value of 1,\n",
    "# and J, Q, and K have a value of 10\n",
    "def draw_value():\n",
    "    \"\"\" returns a value from a deck of cards\n",
    "    \n",
    "    Args:\n",
    "        None\n",
    "        \n",
    "    Returns:\n",
    "        card_value (int): value of a random card from a deck\n",
    "    \"\"\"\n",
    "    # values included in a deck of cards\n",
    "    deck = [1, 2, 3, 4, 5, 6, 7, 8, 9, 10]\n",
    "    card_value = random.choices(deck, weights = [4, 4, 4, 4, 4, 4, 4, 4, 4, 16], k = 1)\n",
    "    return card_value[0]"
   ]
  },
  {
   "cell_type": "code",
   "execution_count": 3,
   "metadata": {},
   "outputs": [
    {
     "data": {
      "text/plain": [
       "5"
      ]
     },
     "execution_count": 3,
     "metadata": {},
     "output_type": "execute_result"
    }
   ],
   "source": [
    "draw_value()"
   ]
  },
  {
   "cell_type": "markdown",
   "metadata": {},
   "source": [
    "We won't typically publish the rubrics to students.  However, we make an exception here so you can see how important documentation, variable naming and [style](https://course.ccs.neu.edu/ds3000/style_guide.html) is in your grade.\n",
    "\n",
    "rubric:\n",
    "- 2 pt any function created\n",
    "- 2 pt function created which returns a card value\n",
    "- 2 pt function created which returns a card value with proper `weights` param\n",
    "    - scaling `weights` by any reasonable constant acceptable for full credit\n",
    "- 2 pt docstring given in proper format\n",
    "- 2 pt variable names are informative and in proper style\n",
    "\n",
    "TAs are encouraged to give other minor point penalties for other style issues which crop up to nudge students in the proper direction (otherwise students may repeat these bad habits!)"
   ]
  },
  {
   "cell_type": "markdown",
   "metadata": {},
   "source": [
    "## Part 1.2.2 (13 points)\n",
    "Its challenging to test a function which returns a random value, by design it gives different values!  If we sample many cards from `draw_value()`, we'd expect to see that the total number of cards drawn are distributed, roughly, to our expectation.\n",
    "\n",
    "- Sample 52000 values from `draw_value()`\n",
    "- record how many times you observe each card in a `defaultdict` named `card_count`\n",
    "- print `card_count` and write one sentence which explains why your results validate that `draw_value()` works"
   ]
  },
  {
   "cell_type": "code",
   "execution_count": 4,
   "metadata": {},
   "outputs": [],
   "source": [
    "# sampling 52000 values from the function draw_value()\n",
    "# to infer the distribution of the values drawn\n",
    "\n",
    "# list of the 52000 values that will be drawn\n",
    "drawn_cards = []\n",
    "\n",
    "# draws 52000 random values using draw_value()\n",
    "# and creates a list\n",
    "for values in range(52000):\n",
    "    drawn_cards.append(draw_value())"
   ]
  },
  {
   "cell_type": "code",
   "execution_count": 5,
   "metadata": {},
   "outputs": [
    {
     "data": {
      "text/plain": [
       "defaultdict(<function __main__.<lambda>()>,\n",
       "            {10: 16170,\n",
       "             5: 3999,\n",
       "             4: 3953,\n",
       "             7: 3931,\n",
       "             1: 3915,\n",
       "             6: 4025,\n",
       "             2: 4000,\n",
       "             3: 4026,\n",
       "             9: 4020,\n",
       "             8: 3961})"
      ]
     },
     "execution_count": 5,
     "metadata": {},
     "output_type": "execute_result"
    }
   ],
   "source": [
    "from collections import defaultdict\n",
    "\n",
    "# card_count: keys are card values,\n",
    "# values are how many times the key appears\n",
    "card_count = defaultdict(lambda: 0)\n",
    "\n",
    "# counts the number of each card value in drawn_cards\n",
    "for vals in drawn_cards:\n",
    "    card_count[vals] += 1\n",
    "\n",
    "card_count"
   ]
  },
  {
   "cell_type": "markdown",
   "metadata": {},
   "source": [
    "`card_count` validates `draw_value()` because we expect all non-10 values to happen about 4k times while the value 10 should show up about four times as often (10, J, Q, K) as the others."
   ]
  },
  {
   "cell_type": "markdown",
   "metadata": {},
   "source": [
    "## Part 1.2.3 (25 pts)\n",
    "One of the big questions facing blackjack players is, \"Given that my hand already has a value of X, what's the probability that the next card will bust my hand?\".  For every starting hand, we'll estimate this probability by simulating how often a hand goes bust among many randomly drawn hands.\n",
    "\n",
    "- initialize `bust_given_start` as a defaultdict\n",
    "    - keys are the starting hands\n",
    "    - values (initially) count how many hands went bust\n",
    "    - e.g. `bust_given_start = {19: 100, 15: 42}` indicates that, among all the simulations:\n",
    "        - 100 hands starting at 19 went bust\n",
    "        - 42 hands starting at 15 went bust\n",
    "- for every `start_hand` from 10 to 21:\n",
    "    - draw a single card via `draw_value()`\n",
    "    - record the hand as a bust if the `start_hand` + `card_val` exceeds 21\n",
    "    - repeat the above two steps so that you simulate 10,000 total hands\n",
    "- divide all the values in `bust_given_start` by 10,000\n",
    "    - this normalization allows us to interpret the values of the dictionary as probabilities of going bust\n",
    "- print `bust_given_start` so it may be observed\n",
    "    - print in increasing order of `start_hand`\n",
    "    - Notice that even though we tested `start_hand=10` many times, it doesn't appear in `bust_given_start` (no need to change this)\n",
    "        - Explain why 10 never appears in one or two complete sentences\n",
    "    "
   ]
  },
  {
   "cell_type": "code",
   "execution_count": 6,
   "metadata": {},
   "outputs": [
    {
     "data": {
      "text/plain": [
       "defaultdict(<function __main__.<lambda>()>,\n",
       "            {10: 0.0,\n",
       "             11: 0.0,\n",
       "             12: 0.2978,\n",
       "             13: 0.3893,\n",
       "             14: 0.4561,\n",
       "             15: 0.5356,\n",
       "             16: 0.6052,\n",
       "             17: 0.6888,\n",
       "             18: 0.7711,\n",
       "             19: 0.8446,\n",
       "             20: 0.9202,\n",
       "             21: 1.0})"
      ]
     },
     "execution_count": 6,
     "metadata": {},
     "output_type": "execute_result"
    }
   ],
   "source": [
    "# bust_given_start: keys are the starting hand,\n",
    "# values are the amount of times the game busts at that hand\n",
    "bust_given_start = defaultdict(lambda: 0)\n",
    "\n",
    "# the possible start hands in a game\n",
    "possible_starts = [10, 11, 12, 13, 14, 15, 16, 17, 18, 19, 20, 21]\n",
    "\n",
    "# draws a single card using draw_value()\n",
    "# records it as a bust if the start and value exceed 21\n",
    "# stimulates this for 10000 total hands for each start_hand\n",
    "for start_hand in possible_starts:\n",
    "    for simulations in range(10000):\n",
    "        card_val = draw_value()\n",
    "        if start_hand + card_val > 21:\n",
    "            bust_given_start[start_hand] += 1\n",
    "    bust_given_start[start_hand] /= 10000\n",
    "    \n",
    "bust_given_start\n",
    "\n",
    "# it is impossible to bust with a 10 or 11 because a face card \n",
    "# would bring the hand value to 20 or 21 respectively, which \n",
    "# does not result in a bust"
   ]
  },
  {
   "cell_type": "markdown",
   "metadata": {},
   "source": [
    "# Triple-or-nothing\n",
    "Triple-or-nothing is a game where a `jar` is initially set up with 2 coins and placed between two opposing players.  In each round:\n",
    "- both players bet some fraction, `frac`\n",
    "    - neither player knows what the other has written down this round\n",
    "    - fractions must be between 0 and 1 (including 0 and 1)\n",
    "- coins are distributed to the players as:\n",
    "    1. the player with the smaller $^1$ `frac` takes that fraction$^2$ of coins from the jar and places them in their `purse`\n",
    "    1. the player with the larger$^1$ `frac` takes that fraction$^2$ of coins from the **remaining** jar and places them in their `purse`\n",
    "    1. the \"bank\" (an infinite supply of coins) triples the value of the jar\n",
    "    1. If the jar has no coins in it or the players have already played 10 rounds, the game ends\n",
    "    \n",
    "Each player seeks to earn as many coins as possible.\n",
    "\n",
    "Footnote 1: You may assume the players do not write the same value down.\n",
    "\n",
    "Footnote 2: In the event the jar is emptied, the game ends"
   ]
  },
  {
   "cell_type": "markdown",
   "metadata": {},
   "source": [
    "# Part 1.3 (35+3 pts)\n",
    "\n",
    "Complete the `update_round()` function below, which updates a round of double-or-nothing as described above.  Your function should pass all the given assert statements below.  \n",
    "\n",
    "For (+3 pts) extra credit, revise your `update_round()` function to allow both players to write the same value down.  In this event, the total number of coins taken out of the jar if the players went (in any order) is: \n",
    "\n",
    "    frac * jar + frac * (1 - frac) * jar = (2 - frac) * frac * jar\n",
    "\n",
    "and it is split evenly between the players."
   ]
  },
  {
   "cell_type": "code",
   "execution_count": 7,
   "metadata": {},
   "outputs": [],
   "source": [
    "# update_round() updates a round of triple-or-nothing \n",
    "def update_round(jar, frac0, frac1):      \n",
    "    \"\"\" runs a round of double-or-nothing\n",
    "    \n",
    "    Args:\n",
    "        jar (int): number of coins in the jar at round start\n",
    "        frac0 (float): player0's value\n",
    "        frac1 (float): player1's value\n",
    "            \n",
    "    Returns:\n",
    "        jar (float): number of coins in the jar at end of round\n",
    "        p1_purse (float): number of coins player0 has earned\n",
    "            in this round\n",
    "        p1_purse (float): number of coins player1 has earned\n",
    "            in this round\n",
    "    \"\"\"\n",
    "    p0_frac = frac0\n",
    "    assert p0_frac >= 0 and p0_frac <= 1\n",
    "    p1_frac = frac1\n",
    "    assert p1_frac >= 0 and p1_frac <= 1\n",
    "    \n",
    "    p0_purse = 0\n",
    "    p1_purse = 0\n",
    "    \n",
    "    # player0's fraction is less than player1's fraction\n",
    "    if p0_frac < p1_frac:\n",
    "        p0_purse += p0_frac * jar\n",
    "        jar -= p0_purse\n",
    "        p1_purse += p1_frac * jar\n",
    "        jar -= p1_purse\n",
    "        \n",
    "    # player1's fraction is less than player0's fraction   \n",
    "    elif p1_frac < p0_frac:\n",
    "        p1_purse += p1_frac *jar\n",
    "        jar -= p1_purse\n",
    "        p0_purse += p0_frac *jar\n",
    "        jar-= p0_purse\n",
    "    \n",
    "    # both players have the same fraction\n",
    "    else:\n",
    "        jar_if_tied = (2 - p0_frac) * p0_frac * jar\n",
    "        p0_purse = jar_if_tied / 2\n",
    "        p1_purse = jar_if_tied / 2\n",
    "        jar -= jar_if_tied\n",
    "    \n",
    "    # the value of the jar is tripled after every round\n",
    "    jar *= 3\n",
    "    \n",
    "    return jar, p0_purse, p1_purse"
   ]
  },
  {
   "cell_type": "code",
   "execution_count": 8,
   "metadata": {},
   "outputs": [],
   "source": [
    "assert update_round(jar=10, frac0=.1, frac1=0) == (27, 1, 0)\n",
    "assert update_round(jar=10, frac0=.5, frac1=.2) == (12, 4, 2)\n",
    "assert update_round(jar=10, frac0=1, frac1=.5) == (0, 5, 5)\n",
    "assert update_round(jar=10, frac1=.9, frac0=1) == (0, 1, 9)\n",
    "\n",
    "# swap frac0 / frac1 and new_coin0 / new_coin1 from previous 4 test cases\n",
    "assert update_round(jar=10, frac1=.1, frac0=0) == (27, 0, 1)\n",
    "assert update_round(jar=10, frac1=.5, frac0=.2) == (12, 2, 4)\n",
    "assert update_round(jar=10, frac1=1, frac0=.5) == (0, 5, 5)\n",
    "assert update_round(jar=10, frac1=1, frac0=.9) == (0, 9, 1)\n",
    "\n",
    "# extra credit test cases\n",
    "assert update_round(jar=10, frac0=1, frac1=1) == (0, 5, 5)\n",
    "assert update_round(jar=20, frac0=.5, frac1=.5) == (15, 7.5, 7.5)"
   ]
  },
  {
   "cell_type": "markdown",
   "metadata": {},
   "source": [
    "## Extra Credit (up to +4 points)\n",
    "\n",
    "Program your own triple-or-nothing player by completing the function below.  \n",
    "- You needn't use all inputs provided, but they're provided in case you want to come up with a way of using them\n",
    "- You may, if you choose, call a working version of `update_round()` as defined above in your function below.\n",
    "\n",
    "All submissions will play a game against every other submission.  The objective is to amass the most coins among all the games you play across all the submissions.\n",
    "\n",
    "While technically, this is a competition, you're welcome to submit strategies which behave in funny ways without the intention of winning.  I'm hopeful that the data of all these games will be interesting to look at, if so we'll be seeing it in lecture.  To help identify which strategy is yours in the dataset, please output a unique (within the class) `name` to your strategy.  \n",
    "\n",
    "All Extra Credit will be awarded based on the creativity, implementation and documentation of the submission. "
   ]
  },
  {
   "cell_type": "code",
   "execution_count": 9,
   "metadata": {},
   "outputs": [],
   "source": [
    "# set below to True if you wish to submit your extra credit\n",
    "extra_credit_attempted = True"
   ]
  },
  {
   "cell_type": "code",
   "execution_count": 10,
   "metadata": {},
   "outputs": [],
   "source": [
    "# returns the optimal fraction for the player to use\n",
    "def triple_nothing_player(jar, round_idx, frac_hist_opp, frac_hist_self):\n",
    "    \"\"\" produces a fraction in a game of triple or nothing\n",
    "    \n",
    "    frac_hist objects are lists of previous fraction history in\n",
    "    the game.  For example, frac_hist = [0, .01, .2] indicates\n",
    "    a player had fraction 0 in the first round, .01 in the second\n",
    "    and .2 in the third\n",
    "    \n",
    "    Args:\n",
    "        jar (float): value of the jar in current round\n",
    "        round_idx (int): current round index (0 for\n",
    "            first round, 9 for final round)\n",
    "        frac_hist_opp (list): a history of all fractions input\n",
    "            by opposing player\n",
    "        frac_hist_self (list): a history of all fractions input \n",
    "            by self\n",
    "            \n",
    "    Returns:\n",
    "        frac (float): fraction for current round\n",
    "        name (str): a unique name given to your strategy\n",
    "    \"\"\"\n",
    "    \n",
    "    self = []\n",
    "    opp = []\n",
    "    \n",
    "    for rnd in range(round_idx + 1):\n",
    "        result = update_round(jar, frac_hist_opp[rnd], frac_hist_self[rnd])\n",
    "        self += [[result[1], frac_hist_self[rnd]]]\n",
    "        opp += [[result[2], frac_hist_opp[rnd]]]\n",
    "        \n",
    "    winning_rnd = []\n",
    "    \n",
    "    for f in range(len(self)):\n",
    "        if self[f][0] > opp[f][0]:\n",
    "            winning_rnd += [self[f][1]]\n",
    "            \n",
    "    # average fraction of winning_rnd       \n",
    "    frac = sum(winning_rnd) / len(winning_rnd)\n",
    "    \n",
    "    return frac, 'S-Tier Strat'"
   ]
  },
  {
   "cell_type": "code",
   "execution_count": 11,
   "metadata": {},
   "outputs": [
    {
     "data": {
      "text/plain": [
       "(0.2, 'S-Tier Strat')"
      ]
     },
     "execution_count": 11,
     "metadata": {},
     "output_type": "execute_result"
    }
   ],
   "source": [
    "triple_nothing_player(10, 4, [.3, .6, .2, .1, .7], [.1, .3, .6, .9, .5])"
   ]
  },
  {
   "cell_type": "code",
   "execution_count": 21,
   "metadata": {},
   "outputs": [
    {
     "ename": "IndexError",
     "evalue": "list index out of range",
     "output_type": "error",
     "traceback": [
      "\u001b[0;31m---------------------------------------------------------------------------\u001b[0m",
      "\u001b[0;31mIndexError\u001b[0m                                Traceback (most recent call last)",
      "Input \u001b[0;32mIn [21]\u001b[0m, in \u001b[0;36m<module>\u001b[0;34m\u001b[0m\n\u001b[0;32m----> 1\u001b[0m \u001b[43mtriple_nothing_player\u001b[49m\u001b[43m(\u001b[49m\u001b[38;5;241;43m2\u001b[39;49m\u001b[43m,\u001b[49m\u001b[43m \u001b[49m\u001b[38;5;241;43m1\u001b[39;49m\u001b[43m,\u001b[49m\u001b[43m \u001b[49m\u001b[43m[\u001b[49m\u001b[43m]\u001b[49m\u001b[43m,\u001b[49m\u001b[43m \u001b[49m\u001b[43m[\u001b[49m\u001b[43m]\u001b[49m\u001b[43m)\u001b[49m\n",
      "Input \u001b[0;32mIn [10]\u001b[0m, in \u001b[0;36mtriple_nothing_player\u001b[0;34m(jar, round_idx, frac_hist_opp, frac_hist_self)\u001b[0m\n\u001b[1;32m     25\u001b[0m opp \u001b[38;5;241m=\u001b[39m []\n\u001b[1;32m     27\u001b[0m \u001b[38;5;28;01mfor\u001b[39;00m rnd \u001b[38;5;129;01min\u001b[39;00m \u001b[38;5;28mrange\u001b[39m(round_idx \u001b[38;5;241m+\u001b[39m \u001b[38;5;241m1\u001b[39m):\n\u001b[0;32m---> 28\u001b[0m     result \u001b[38;5;241m=\u001b[39m update_round(jar, \u001b[43mfrac_hist_opp\u001b[49m\u001b[43m[\u001b[49m\u001b[43mrnd\u001b[49m\u001b[43m]\u001b[49m, frac_hist_self[rnd])\n\u001b[1;32m     29\u001b[0m     \u001b[38;5;28mself\u001b[39m \u001b[38;5;241m+\u001b[39m\u001b[38;5;241m=\u001b[39m [[result[\u001b[38;5;241m1\u001b[39m], frac_hist_self[rnd]]]\n\u001b[1;32m     30\u001b[0m     opp \u001b[38;5;241m+\u001b[39m\u001b[38;5;241m=\u001b[39m [[result[\u001b[38;5;241m2\u001b[39m], frac_hist_opp[rnd]]]\n",
      "\u001b[0;31mIndexError\u001b[0m: list index out of range"
     ]
    }
   ],
   "source": [
    "triple_nothing_player(2, 1, [], [])"
   ]
  }
 ],
 "metadata": {
  "kernelspec": {
   "display_name": "Python 3 (ipykernel)",
   "language": "python",
   "name": "python3"
  },
  "language_info": {
   "codemirror_mode": {
    "name": "ipython",
    "version": 3
   },
   "file_extension": ".py",
   "mimetype": "text/x-python",
   "name": "python",
   "nbconvert_exporter": "python",
   "pygments_lexer": "ipython3",
   "version": "3.8.10"
  }
 },
 "nbformat": 4,
 "nbformat_minor": 4
}
