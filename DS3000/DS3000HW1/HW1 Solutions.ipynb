{
 "cells": [
  {
   "cell_type": "markdown",
   "metadata": {},
   "source": [
    "# DS 3000 HW 1\n",
    "\n",
    "Due: Weds Feb 02 @ 11:59 PM EST\n",
    "\n",
    "### Submission Instructions\n",
    "Submit this `ipynb` file to [gradescope](https://www.gradescope.com/courses/337250).  To ensure that your submitted `ipynb` file represents your latest code, make sure to give a fresh `Kernel > Restart & Run All` just before uploading the `ipynb` file to gradescope.\n",
    "\n",
    "### Tips for success\n",
    "- Start early\n",
    "- Make use of [Piazza](https://course.ccs.neu.edu/ds3000/admin.html#piazza-discussion-forum)\n",
    "- Make use of [Office Hours](https://course.ccs.neu.edu/ds3000/office_hours.html)\n",
    "    - Office Hours will start Jan 26, I\"ll send an announcement that day and instructions will be complete on the course website\n",
    "- Remember that [Documentation / style counts for credit](https://course.ccs.neu.edu/ds3000/style_guide.html)\n",
    "- Under no circumstances may one student view or share their ungraded homework or quiz with another student [(see also)](https://course.ccs.neu.edu/ds3000/syllabus.html#academic-integrity-and-conduct)"
   ]
  },
  {
   "cell_type": "markdown",
   "metadata": {},
   "source": [
    "# Markdown\n",
    "\n",
    "## Part 1.1 (17 points): \n",
    "Use the markdown language below to create your own brief wikipedia-esque description of any subject of interest. \n",
    "\n",
    "Your mini-wiki page must include:\n",
    "- three headers: a title, subtitle and subsubtitle (the #, ##, ### syntax)\n",
    "- an embedded image from a web address (use an [image hosting site](https://makeawebsitehub.com/free-photo-hosting/) if you'd like to upload your own)\n",
    "- a table of size at least 3 rows x 3 columns (needn't be correct, but must make sense)\n",
    "- a list\n",
    "- a link to another website\n",
    "\n",
    "Please be brief in your text.  Aim for roughly 3 sentences total of text.  We won't grade based on content, but keep it appropriate for class.  If you make the grader smile, no extra credit will be awarded beyond the satisfaction of having made somebody's day better :)"
   ]
  },
  {
   "cell_type": "markdown",
   "metadata": {},
   "source": [
    "## Part 1.1: Solution (Example)\n",
    "\n",
    "# Why we should never wear only a single hat\n",
    "\n",
    "## Reason 1:\n",
    "Wearing a lot of hats looks quite silly:\n",
    "    ![dapper indeed](https://i.ibb.co/vc5srmB/Stack-of-hats.jpg \"Logo Title Text 1\")\n",
    "    [original image source](https://4.bp.blogspot.com/-JA9Iv6aUu3A/USZ2hp2362I/AAAAAAAABQs/llT232W_7xo/s1600/stessmania_hats.jpg)\n",
    "    \n",
    "## Reason 2:\n",
    "Many important people like to wear multiple hats:\n",
    "- every US president\n",
    "- most major athletes\n",
    "\n",
    "#### Reason 2: addendum\n",
    "- other people too\n",
    "\n",
    "## Reason 3:\n",
    "The taller your hats are, the earlier you will know its raining.\n",
    "\n",
    "# Reason 4: They're cost effective\n",
    "\n",
    "| Type of hat     | Cost ($) | Popularity Index |\n",
    "|-----------------|----------|------------------|\n",
    "| Baseball hat    | 2        | 40               |\n",
    "| Bowler          | 250      | .2               |\n",
    "| Conic party hat | .02      | 1*                |\n",
    "\n",
    "*often appears in groups\n"
   ]
  },
  {
   "cell_type": "markdown",
   "metadata": {},
   "source": [
    "# Part 1.2\n",
    "\n",
    "In [blackjack](https://en.wikipedia.org/wiki/Blackjack), players are given two cards from a [standard deck](https://en.wikipedia.org/wiki/Standard_52-card_deck#Composition) of cards and add their values together.  Values are assigned to cards as:\n",
    "- number cards use their own value\n",
    "- Jack, Queen, King cards all have a value of 10\n",
    "- aces, in this problem will always have a value of 1\n",
    "\n",
    "Players may then choose to take as many cards as they'd like, one at a time, to increase the sum of their hand's value.  The goal is to produce a value as high as possible without exceeding 21.  When a player's hand sum increases beyond 21 they are said to 'bust' and they lose the game.\n",
    "\n",
    "The key to playing well is knowing when to stop taking cards.  We'll explore this issue by writing a program to have the computer play many hands of blackjack and count how often they bust."
   ]
  },
  {
   "cell_type": "markdown",
   "metadata": {},
   "source": [
    "## Part 1.2.1 (10 points)\n",
    "Complete the function `draw_value()` which accepts no inputs and returns the value of some card drawn from a standard deck of cards.  `random.choices()`, and its `weights` parameter may be helpful here.\n",
    "\n",
    "\n",
    "Assume that you draw cards with replacement, so that its possible to draw the same card many times.  (In practice, this isn't far from the truth as real casinos often draw from a pile of cards containing multiple, shuffled decks to mitigate the effectiveness of [card counting](https://en.wikipedia.org/wiki/Card_counting))."
   ]
  },
  {
   "cell_type": "code",
   "execution_count": 1,
   "metadata": {},
   "outputs": [
    {
     "data": {
      "text/plain": [
       "3"
      ]
     },
     "execution_count": 1,
     "metadata": {},
     "output_type": "execute_result"
    }
   ],
   "source": [
    "import random\n",
    "\n",
    "def draw_value():\n",
    "    \"\"\" draws a value from a standard deck of cards\n",
    "    \n",
    "    Returns:\n",
    "        card_val (int): card value\n",
    "    \"\"\"\n",
    "    val_list = [1, 2, 3, 4, 5, 6, 7, 8, 9, 10]\n",
    "    val_prob = [4, 4, 4, 4, 4, 4, 4, 4, 4, 16]\n",
    "    return random.choices(val_list, weights=val_prob)[0]\n",
    "\n",
    "draw_value()"
   ]
  },
  {
   "cell_type": "markdown",
   "metadata": {},
   "source": [
    "We won't typically publish the rubrics to students.  However, we make an exception here so you can see how important documentation, variable naming and [style](https://course.ccs.neu.edu/ds3000/style_guide.html) is in your grade.\n",
    "\n",
    "rubric:\n",
    "- 2 pt any function created\n",
    "- 2 pt function created which returns a card value\n",
    "- 2 pt function created which returns a card value with proper `weights` param\n",
    "    - scaling `weights` by any reasonable constant acceptable for full credit\n",
    "- 2 pt docstring given in proper format\n",
    "- 2 pt variable names are informative and in proper style\n",
    "\n",
    "TAs are encouraged to give other minor point penalties for other style issues which crop up to nudge students in the proper direction (otherwise students may repeat these bad habits!)"
   ]
  },
  {
   "cell_type": "markdown",
   "metadata": {},
   "source": [
    "## Part 1.2.2 (13 points)\n",
    "Its challenging to test a function which returns a random value, by design it gives different values!  If we sample many cards from `draw_value()`, we'd expect to see that the total number of cards drawn are distributed, roughly, to our expectation.\n",
    "\n",
    "- Sample 52000 values from `draw_value()`\n",
    "- record how many times you observe each card in a `defaultdict` named `card_count`\n",
    "- print `card_count` and write one sentence which explains why your results validate that `draw_value()` works"
   ]
  },
  {
   "cell_type": "code",
   "execution_count": 2,
   "metadata": {},
   "outputs": [],
   "source": [
    "from collections import defaultdict\n",
    "\n",
    "# init card_count\n",
    "card_count = defaultdict(lambda: 0)\n",
    "\n",
    "for idx in range(52000):\n",
    "    # draw new value\n",
    "    card_val = draw_value()\n",
    "    \n",
    "    # record this value\n",
    "    card_count[card_val] = card_count[card_val] + 1    "
   ]
  },
  {
   "cell_type": "code",
   "execution_count": 3,
   "metadata": {},
   "outputs": [
    {
     "data": {
      "text/plain": [
       "defaultdict(<function __main__.<lambda>()>,\n",
       "            {10: 16003,\n",
       "             2: 4013,\n",
       "             6: 3936,\n",
       "             8: 3943,\n",
       "             5: 3880,\n",
       "             7: 4153,\n",
       "             9: 4013,\n",
       "             4: 3893,\n",
       "             3: 4216,\n",
       "             1: 3950})"
      ]
     },
     "execution_count": 3,
     "metadata": {},
     "output_type": "execute_result"
    }
   ],
   "source": [
    "card_count"
   ]
  },
  {
   "cell_type": "markdown",
   "metadata": {},
   "source": [
    "`card_count` validates `draw_value()` because we expect all non-10 values to happen about 4k times while the value 10 should show up about four times as often (10, J, Q, K) as the others."
   ]
  },
  {
   "cell_type": "markdown",
   "metadata": {},
   "source": [
    "## Part 1.2.3 (25 pts)\n",
    "One of the big questions facing blackjack players is, \"Given that my hand already has a value of X, what's the probability that the next card will bust my hand?\".  For every starting hand, we'll estimate this probability by simulating how often a hand goes bust among many randomly drawn hands.\n",
    "\n",
    "- initialize `bust_given_start` as a defaultdict\n",
    "    - keys are the starting hands\n",
    "    - values (initially) count how many hands went bust\n",
    "    - e.g. `bust_given_start = {19: 100, 15: 42}` indicates that, among all the simulations:\n",
    "        - 100 hands starting at 19 went bust\n",
    "        - 42 hands starting at 15 went bust\n",
    "- for every `start_hand` from 10 to 21:\n",
    "    - draw a single card via `draw_value()`\n",
    "    - record the hand as a bust if the `start_hand` + `card_val` exceeds 21\n",
    "    - repeat the above two steps so that you simulate 10,000 total hands\n",
    "- divide all the values in `bust_given_start` by 10,000\n",
    "    - this normalization allows us to interpret the values of the dictionary as probabilities of going bust\n",
    "- print `bust_given_start` so it may be observed\n",
    "    - print in increasing order of `start_hand`\n",
    "    - Notice that even though we tested `start_hand=10` many times, it doesn't appear in `bust_given_start` (no need to change this)\n",
    "        - Explain why 10 never appears in one or two complete sentences\n",
    "    "
   ]
  },
  {
   "cell_type": "code",
   "execution_count": 4,
   "metadata": {},
   "outputs": [],
   "source": [
    "# init bust_given_start\n",
    "bust_given_start = defaultdict(lambda: 0)\n",
    "\n",
    "# simulate each starting hand\n",
    "for start_hand in range(10, 22):\n",
    "    # simulate 10k draws of a single card\n",
    "    for hand_idx in range(10000):\n",
    "        # draw a card\n",
    "        card_val = draw_value()\n",
    "        \n",
    "        if 21 < start_hand + card_val:\n",
    "            # card value and starting hand would bust, record this\n",
    "            bust_given_start[start_hand] = bust_given_start[start_hand] + 1\n",
    "            "
   ]
  },
  {
   "cell_type": "code",
   "execution_count": 5,
   "metadata": {},
   "outputs": [],
   "source": [
    "# divide by total hands so we can see bust\n",
    "for start_hand in bust_given_start.keys():\n",
    "    bust_given_start[start_hand] = bust_given_start[start_hand] / 10000\n",
    "    "
   ]
  },
  {
   "cell_type": "code",
   "execution_count": 6,
   "metadata": {},
   "outputs": [
    {
     "name": "stdout",
     "output_type": "stream",
     "text": [
      "given start_hand is 12, prob of bust on next card is 0.307\n",
      "given start_hand is 13, prob of bust on next card is 0.390\n",
      "given start_hand is 14, prob of bust on next card is 0.453\n",
      "given start_hand is 15, prob of bust on next card is 0.540\n",
      "given start_hand is 16, prob of bust on next card is 0.614\n",
      "given start_hand is 17, prob of bust on next card is 0.702\n",
      "given start_hand is 18, prob of bust on next card is 0.775\n",
      "given start_hand is 19, prob of bust on next card is 0.846\n",
      "given start_hand is 20, prob of bust on next card is 0.923\n",
      "given start_hand is 21, prob of bust on next card is 1.000\n"
     ]
    }
   ],
   "source": [
    "for start_hand in sorted(bust_given_start.keys()):\n",
    "    prob_bust = bust_given_start[start_hand]\n",
    "    print(f'given start_hand is {start_hand}, prob of bust on next card is {prob_bust:.3f}')"
   ]
  },
  {
   "cell_type": "markdown",
   "metadata": {},
   "source": [
    "# Triple-or-nothing\n",
    "Triple-or-nothing is a game where a `jar` is initially set up with 2 coins and placed between two opposing players.  In each round:\n",
    "- both players bet some fraction, `frac`\n",
    "    - neither player knows what the other has written down this round\n",
    "    - fractions must be between 0 and 1 (including 0 and 1)\n",
    "- coins are distributed to the players as:\n",
    "    1. the player with the smaller $^1$ `frac` takes that fraction$^2$ of coins from the jar and places them in their `purse`\n",
    "    1. the player with the larger$^1$ `frac` takes that fraction$^2$ of coins from the **remaining** jar and places them in their `purse`\n",
    "    1. the \"bank\" (an infinite supply of coins) triples the value of the jar\n",
    "    1. If the jar has no coins in it or the players have already played 10 rounds, the game ends\n",
    "    \n",
    "Each player seeks to earn as many coins as possible.\n",
    "\n",
    "Footnote 1: You may assume the players do not write the same value down.\n",
    "\n",
    "Footnote 2: In the event the jar is emptied, the game ends"
   ]
  },
  {
   "cell_type": "markdown",
   "metadata": {},
   "source": [
    "# Part 1.3 (35+3 pts)\n",
    "\n",
    "Complete the `update_round()` function below, which updates a round of double-or-nothing as described above.  Your function should pass all the given assert statements below.  \n",
    "\n",
    "For (+3 pts) extra credit, revise your `update_round()` function to allow both players to write the same value down.  In this event, the total number of coins taken out of the jar if the players went (in any order) is: \n",
    "\n",
    "    frac * jar + frac * (1 - frac) * jar = (2 - frac) * frac * jar\n",
    "\n",
    "and it is split evenly between the players."
   ]
  },
  {
   "cell_type": "code",
   "execution_count": 7,
   "metadata": {},
   "outputs": [],
   "source": [
    "def update_round(jar, frac0, frac1):\n",
    "    \"\"\" runs a round of double-or-nothing\n",
    "    \n",
    "    Args:\n",
    "        jar (float): number of coins in the jar at round start\n",
    "        frac0 (float): player0's fraction bet\n",
    "        frac1 (float): player1's fraction bet\n",
    "            \n",
    "    Returns:\n",
    "        jar (float): number of coins in the jar at end of round\n",
    "        new_coin0 (float): number of coins player0 has earned\n",
    "            in this round\n",
    "        new_coin1 (float): number of coins player1 has earned\n",
    "            in this round\n",
    "    \"\"\"\n",
    "    # check to ensure frac0 and frac1 are distinct\n",
    "    # (discard this line if you begin work on extra credit)\n",
    "    assert frac0 != frac1, 'invalid input, frac0 == frac1'\n",
    "    \n",
    "    # check that both fraction inputs are valid\n",
    "    assert 0 <= frac0 <= 1, 'invalid input: frac0'\n",
    "    assert 0 <= frac1 <= 1, 'invalid input: frac1'\n",
    "        \n",
    "    # get new coins per player and update jar value\n",
    "    if frac0 < frac1:\n",
    "        # player0 takes their coins first\n",
    "        new_coin0 = jar * frac0\n",
    "        jar -= new_coin0    \n",
    "        \n",
    "        # then player1 takes their coins\n",
    "        new_coin1 = frac1 * jar\n",
    "        jar -= new_coin1\n",
    "        \n",
    "    else:\n",
    "        # player1 takes their coins\n",
    "        new_coin1 = frac1 * jar\n",
    "        jar -= new_coin1\n",
    "        \n",
    "        # then player0 takes their coins first\n",
    "        new_coin0 = frac0 * jar\n",
    "        jar -= new_coin0    \n",
    "    \n",
    "    # triple any remaining coins in jar\n",
    "    jar = jar * 3\n",
    "    \n",
    "    return jar, new_coin0, new_coin1   "
   ]
  },
  {
   "cell_type": "code",
   "execution_count": 8,
   "metadata": {},
   "outputs": [],
   "source": [
    "assert update_round(jar=10, frac0=.1, frac1=0) == (27, 1, 0)\n",
    "assert update_round(jar=10, frac0=.5, frac1=.2) == (12, 4, 2)\n",
    "assert update_round(jar=10, frac0=1, frac1=.5) == (0, 5, 5)\n",
    "assert update_round(jar=10, frac1=.9, frac0=1) == (0, 1, 9)\n",
    "\n",
    "# swap frac0 / frac1 and new_coin0 / new_coin1 from previous 4 test cases\n",
    "assert update_round(jar=10, frac1=.1, frac0=0) == (27, 0, 1)\n",
    "assert update_round(jar=10, frac1=.5, frac0=.2) == (12, 2, 4)\n",
    "assert update_round(jar=10, frac1=1, frac0=.5) == (0, 5, 5)\n",
    "assert update_round(jar=10, frac1=1, frac0=.9) == (0, 9, 1)\n",
    "\n",
    "# # extra credit test cases\n",
    "# assert update_round(jar=10, frac0=1, frac1=1) == (0, 5, 5)\n",
    "# assert update_round(jar=20, frac0=.5, frac1=.5) == (15, 7.5, 7.5)\n"
   ]
  },
  {
   "cell_type": "markdown",
   "metadata": {},
   "source": [
    "## Solution (w/ extra credit)\n",
    "A function may have multiple exit points.  Testing for some condition at the outset of the function and then `return`-ing at the end of the if block allows us to write some code which handles a special case.  (Of course, one should be mindful that they've made every effort to ensure their case couldn't be handled with all the others ... too many special cases can become overly complex rather quickly!)"
   ]
  },
  {
   "cell_type": "code",
   "execution_count": 9,
   "metadata": {},
   "outputs": [],
   "source": [
    "def update_round(jar, frac0, frac1):\n",
    "    \"\"\" runs a round of double-or-nothing\n",
    "    \n",
    "    Args:\n",
    "        jar (int): number of coins in the jar at round start\n",
    "        frac0 (float): player0's value\n",
    "        frac1 (float): player1's value\n",
    "            \n",
    "    Returns:\n",
    "        jar (int): number of coins in the jar at end of round\n",
    "        new_coin0 (float): number of coins player0 has earned\n",
    "            in this round\n",
    "        new_coin1 (float): number of coins player1 has earned\n",
    "            in this round\n",
    "    \"\"\"\n",
    "    \n",
    "    # check that both fraction inputs are valid\n",
    "    assert 0 <= frac0 <= 1, 'invalid input: frac0'\n",
    "    assert 0 <= frac1 <= 1, 'invalid input: frac1'\n",
    "    \n",
    "    ######  EXTRA CREDIT START ###### \n",
    "    if frac0 == frac1:\n",
    "        # players choose same fraction (extra credit)\n",
    "        \n",
    "        # compute (and split) total coins_out\n",
    "        coins_out = (2 - frac0) * frac0 * jar\n",
    "        new_coin0 = coins_out / 2\n",
    "        new_coin1 = coins_out / 2\n",
    "        \n",
    "        # update jar\n",
    "        jar -= coins_out\n",
    "        jar = jar * 3\n",
    "            \n",
    "        # early return (see note above)\n",
    "        return jar, new_coin0, new_coin1\n",
    "    ######  EXTRA CREDIT END ######\n",
    "        \n",
    "    # get new coins per player and update jar value\n",
    "    if frac0 < frac1:\n",
    "        # player0 takes their coins first\n",
    "        new_coin0 = jar * frac0\n",
    "        jar -= new_coin0    \n",
    "        \n",
    "        # then player1 takes their coins\n",
    "        new_coin1 = frac1 * jar\n",
    "        jar -= new_coin1\n",
    "        \n",
    "    else:\n",
    "        # player1 takes their coins\n",
    "        new_coin1 = frac1 * jar\n",
    "        jar -= new_coin1\n",
    "        \n",
    "        # then player0 takes their coins first\n",
    "        new_coin0 = frac0 * jar\n",
    "        jar -= new_coin0    \n",
    "    \n",
    "    # triple any remaining coins in jar\n",
    "    jar = jar * 3\n",
    "    \n",
    "    return jar, new_coin0, new_coin1   "
   ]
  },
  {
   "cell_type": "code",
   "execution_count": 10,
   "metadata": {},
   "outputs": [],
   "source": [
    "assert update_round(jar=10, frac0=.1, frac1=0) == (27, 1, 0)\n",
    "assert update_round(jar=10, frac0=.5, frac1=.2) == (12, 4, 2)\n",
    "assert update_round(jar=10, frac0=1, frac1=.5) == (0, 5, 5)\n",
    "assert update_round(jar=10, frac1=.9, frac0=1) == (0, 1, 9)\n",
    "\n",
    "# swap frac0 / frac1 and new_coin0 / new_coin1 from previous 4 test cases\n",
    "assert update_round(jar=10, frac1=.1, frac0=0) == (27, 0, 1)\n",
    "assert update_round(jar=10, frac1=.5, frac0=.2) == (12, 2, 4)\n",
    "assert update_round(jar=10, frac1=1, frac0=.5) == (0, 5, 5)\n",
    "assert update_round(jar=10, frac1=1, frac0=.9) == (0, 9, 1)\n",
    "\n",
    "# extra credit test cases\n",
    "assert update_round(jar=10, frac0=1, frac1=1) == (0, 5, 5)\n",
    "assert update_round(jar=20, frac0=.5, frac1=.5) == (15, 7.5, 7.5)"
   ]
  },
  {
   "cell_type": "markdown",
   "metadata": {},
   "source": [
    "## Extra Credit (up to +4 points)\n",
    "\n",
    "Program your own triple-or-nothing player by completing the function below.  \n",
    "- You needn't use all inputs provided, but they're provided in case you want to come up with a way of using them\n",
    "- You may, if you choose, call a working version of `update_round()` as defined above in your function below.\n",
    "\n",
    "All submissions will play a game against every other submission.  The objective is to amass the most coins among all the games you play across all the submissions.\n",
    "\n",
    "While technically, this is a competition, you're welcome to submit strategies which behave in funny ways without the intention of winning.  I'm hopeful that the data of all these games will be interesting to look at, if so we'll be seeing it in lecture.  To help identify which strategy is yours in the dataset, please output a unique (within the class) `name` to your strategy.  \n",
    "\n",
    "All Extra Credit will be awarded based on the creativity, implementation and documentation of the submission. "
   ]
  },
  {
   "cell_type": "code",
   "execution_count": 11,
   "metadata": {},
   "outputs": [],
   "source": [
    "# set below to True if you wish to submit your extra credit\n",
    "extra_credit_attempted = False"
   ]
  },
  {
   "cell_type": "code",
   "execution_count": 12,
   "metadata": {},
   "outputs": [],
   "source": [
    "def triple_nothing_player(jar, round_idx, frac_hist_opp, frac_hist_self):\n",
    "    \"\"\" produces a fraction in a game of triple or nothing\n",
    "    \n",
    "    frac_hist objects are lists of previous fraction history in\n",
    "    the game.  For example, frac_hist = [0, .01, .2] indicates\n",
    "    a player had fraction 0 in the first round, .01 in the second\n",
    "    and .2 in the third\n",
    "    \n",
    "    Args:\n",
    "        jar (float): value of the jar in current round\n",
    "        round_idx (int): current round index (0 for\n",
    "            first round, 9 for final round)\n",
    "        frac_hist_opp (list): a history of all fractions input\n",
    "            by opposing player\n",
    "        frac_hist_self (list): a history of all fractions input \n",
    "            by self\n",
    "            \n",
    "    Returns:\n",
    "        frac (float): fraction for current round\n",
    "        name (str): a unique name given to your strategy\n",
    "    \"\"\""
   ]
  }
 ],
 "metadata": {
  "kernelspec": {
   "display_name": "Python 3 (ipykernel)",
   "language": "python",
   "name": "python3"
  },
  "language_info": {
   "codemirror_mode": {
    "name": "ipython",
    "version": 3
   },
   "file_extension": ".py",
   "mimetype": "text/x-python",
   "name": "python",
   "nbconvert_exporter": "python",
   "pygments_lexer": "ipython3",
   "version": "3.8.10"
  }
 },
 "nbformat": 4,
 "nbformat_minor": 4
}
