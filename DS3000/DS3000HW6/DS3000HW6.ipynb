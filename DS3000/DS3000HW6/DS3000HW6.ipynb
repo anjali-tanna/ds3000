{
 "cells": [
  {
   "cell_type": "markdown",
   "metadata": {},
   "source": [
    "# DS 3000 HW 6\n",
    "\n",
    "Due: Tue Mar 29 @ 11:59 PM EST\n",
    "\n",
    "### Submission Instructions\n",
    "Submit this `ipynb` file to [gradescope](https://www.gradescope.com/courses/337250).  To ensure that your submitted `ipynb` file represents your latest code, make sure to give a fresh `Kernel > Restart & Run All` just before uploading the `ipynb` file to gradescope.\n",
    "\n",
    "### Tips for success\n",
    "- Start early\n",
    "- Make use of [Piazza](https://course.ccs.neu.edu/ds3000/admin.html#piazza-discussion-forum)\n",
    "- Make use of [Office Hours](https://course.ccs.neu.edu/ds3000/office_hours.html)\n",
    "- Remember that [Documentation / style counts for credit](https://course.ccs.neu.edu/ds3000/style_guide.html)\n",
    "- Under no circumstances may one student view or share their ungraded homework or quiz with another student [(see also)](https://course.ccs.neu.edu/ds3000/syllabus.html#academic-integrity-and-conduct)\n",
    "\n",
    "<p style=\"color:blue;\">Note that this HW has 78 total points to reflect the fact that its a bit shorter than others.  It will be weighed .78 as much as a 100 point HW.</p>"
   ]
  },
  {
   "cell_type": "markdown",
   "metadata": {},
   "source": [
    "## Part 1 (22 points)\n",
    "\n",
    "Match each of the covariance matrices to the dataset which is most consistent.  Note that all scatterplots below have equal scales in the x and y axes (moving an inch to the right increases x as much as moving an inch up increases y).  \n",
    "\n",
    "Please express your response as list, ordered alphabetically by dataset.  For example, you might respond with:\n",
    "\n",
    "- Data Set A = $\\Sigma_0$\n",
    "- Data Set B = $\\Sigma_1$\n",
    "- Data Set C = $\\Sigma_2$\n",
    "- Data Set D = ...\n",
    "\n",
    "(If you'r eunsure how to format a \"Sigma\" in Latex, double click this markdown cell and examine the source which generated the list above)\n",
    "\n",
    "<img src=\"https://i.ibb.co/K7DY3mx/cov3by3.png\" alt=\"Drawing\" style=\"width: 600px;\"/>\n",
    "\n",
    "\n",
    "$$\\Sigma_0 =\\begin{bmatrix} \n",
    "5 & 1\\\\ \n",
    "1 & 2\n",
    "\\end{bmatrix}, \n",
    "\\Sigma_1 =\\begin{bmatrix} \n",
    "4 & 0\\\\ \n",
    "0 & 0\n",
    "\\end{bmatrix}, \n",
    "\\Sigma_2 =\\begin{bmatrix} \n",
    "1 & -1\\\\ \n",
    "-1 & 7\n",
    "\\end{bmatrix}, \n",
    "\\Sigma_3 =\\begin{bmatrix} \n",
    "7 & 4\\\\ \n",
    "4 & 5\n",
    "\\end{bmatrix}, \n",
    "\\Sigma_4 =\\begin{bmatrix} \n",
    "5 & 3\\\\ \n",
    "3 & 2\n",
    "\\end{bmatrix}$$\n",
    "\n",
    "$$\\Sigma_5 =\\begin{bmatrix} \n",
    "6 & 2\\\\ \n",
    "2 & 6\n",
    "\\end{bmatrix}, \n",
    "\\Sigma_6 =\\begin{bmatrix} \n",
    "4 & -2\\\\ \n",
    "-2 & 5\n",
    "\\end{bmatrix}, \n",
    "\\Sigma_7 =\\begin{bmatrix} \n",
    "1 & -2\\\\ \n",
    "-2 & 5\n",
    "\\end{bmatrix}, \n",
    "\\Sigma_8 =\\begin{bmatrix} \n",
    "2 & 0\\\\ \n",
    "0 & 2\n",
    "\\end{bmatrix}$$"
   ]
  },
  {
   "cell_type": "markdown",
   "metadata": {},
   "source": []
  },
  {
   "cell_type": "markdown",
   "metadata": {},
   "source": [
    "- Data Set A = $\\Sigma_3$\n",
    "- Data Set B = $\\Sigma_7$\n",
    "- Data Set C = $\\Sigma_5$\n",
    "- Data Set D = $\\Sigma_8$\n",
    "- Data Set E = $\\Sigma_4$\n",
    "- Data Set F = $\\Sigma_6$\n",
    "- Data Set G = $\\Sigma_1$\n",
    "- Data Set H = $\\Sigma_0$\n",
    "- Data Set I = $\\Sigma_2$"
   ]
  },
  {
   "cell_type": "markdown",
   "metadata": {},
   "source": [
    "# Part 2: New COVID-19 cases, Scale in Covariance Matrices (16+1 points)\n",
    "\n",
    "This problem uses `covid_data.csv` which measures the total new daily COVID cases each day in Massachusetts, California and NEU.  So if `MA` is 1 on 3/16/2021, then we know that there 1 reported COVID case on 3/16/2021."
   ]
  },
  {
   "cell_type": "code",
   "execution_count": 1,
   "metadata": {},
   "outputs": [],
   "source": [
    "import pandas as pd\n",
    "\n",
    "df_covid = pd.read_csv('covid_data.csv', index_col='date')"
   ]
  },
  {
   "cell_type": "code",
   "execution_count": 2,
   "metadata": {},
   "outputs": [
    {
     "data": {
      "text/html": [
       "<div>\n",
       "<style scoped>\n",
       "    .dataframe tbody tr th:only-of-type {\n",
       "        vertical-align: middle;\n",
       "    }\n",
       "\n",
       "    .dataframe tbody tr th {\n",
       "        vertical-align: top;\n",
       "    }\n",
       "\n",
       "    .dataframe thead th {\n",
       "        text-align: right;\n",
       "    }\n",
       "</style>\n",
       "<table border=\"1\" class=\"dataframe\">\n",
       "  <thead>\n",
       "    <tr style=\"text-align: right;\">\n",
       "      <th></th>\n",
       "      <th>MA</th>\n",
       "      <th>CA</th>\n",
       "      <th>NEU</th>\n",
       "    </tr>\n",
       "  </thead>\n",
       "  <tbody>\n",
       "    <tr>\n",
       "      <th>MA</th>\n",
       "      <td>4.217750e+06</td>\n",
       "      <td>2.351385e+07</td>\n",
       "      <td>6864.562272</td>\n",
       "    </tr>\n",
       "    <tr>\n",
       "      <th>CA</th>\n",
       "      <td>2.351385e+07</td>\n",
       "      <td>1.980773e+08</td>\n",
       "      <td>40762.364969</td>\n",
       "    </tr>\n",
       "    <tr>\n",
       "      <th>NEU</th>\n",
       "      <td>6.864562e+03</td>\n",
       "      <td>4.076236e+04</td>\n",
       "      <td>30.653335</td>\n",
       "    </tr>\n",
       "  </tbody>\n",
       "</table>\n",
       "</div>"
      ],
      "text/plain": [
       "               MA            CA           NEU\n",
       "MA   4.217750e+06  2.351385e+07   6864.562272\n",
       "CA   2.351385e+07  1.980773e+08  40762.364969\n",
       "NEU  6.864562e+03  4.076236e+04     30.653335"
      ]
     },
     "execution_count": 2,
     "metadata": {},
     "output_type": "execute_result"
    }
   ],
   "source": [
    "# covariance of df_covid\n",
    "df_covid.cov()"
   ]
  },
  {
   "cell_type": "code",
   "execution_count": 3,
   "metadata": {},
   "outputs": [
    {
     "data": {
      "text/html": [
       "<div>\n",
       "<style scoped>\n",
       "    .dataframe tbody tr th:only-of-type {\n",
       "        vertical-align: middle;\n",
       "    }\n",
       "\n",
       "    .dataframe tbody tr th {\n",
       "        vertical-align: top;\n",
       "    }\n",
       "\n",
       "    .dataframe thead th {\n",
       "        text-align: right;\n",
       "    }\n",
       "</style>\n",
       "<table border=\"1\" class=\"dataframe\">\n",
       "  <thead>\n",
       "    <tr style=\"text-align: right;\">\n",
       "      <th></th>\n",
       "      <th>MA</th>\n",
       "      <th>CA</th>\n",
       "      <th>NEU</th>\n",
       "    </tr>\n",
       "    <tr>\n",
       "      <th>date</th>\n",
       "      <th></th>\n",
       "      <th></th>\n",
       "      <th></th>\n",
       "    </tr>\n",
       "  </thead>\n",
       "  <tbody>\n",
       "    <tr>\n",
       "      <th>2021-03-03</th>\n",
       "      <td>1899</td>\n",
       "      <td>3352</td>\n",
       "      <td>11</td>\n",
       "    </tr>\n",
       "    <tr>\n",
       "      <th>2021-03-02</th>\n",
       "      <td>301</td>\n",
       "      <td>2533</td>\n",
       "      <td>10</td>\n",
       "    </tr>\n",
       "    <tr>\n",
       "      <th>2021-03-01</th>\n",
       "      <td>1395</td>\n",
       "      <td>3516</td>\n",
       "      <td>11</td>\n",
       "    </tr>\n",
       "    <tr>\n",
       "      <th>2021-02-28</th>\n",
       "      <td>1468</td>\n",
       "      <td>4685</td>\n",
       "      <td>7</td>\n",
       "    </tr>\n",
       "    <tr>\n",
       "      <th>2021-02-27</th>\n",
       "      <td>1700</td>\n",
       "      <td>5151</td>\n",
       "      <td>4</td>\n",
       "    </tr>\n",
       "  </tbody>\n",
       "</table>\n",
       "</div>"
      ],
      "text/plain": [
       "              MA    CA  NEU\n",
       "date                       \n",
       "2021-03-03  1899  3352   11\n",
       "2021-03-02   301  2533   10\n",
       "2021-03-01  1395  3516   11\n",
       "2021-02-28  1468  4685    7\n",
       "2021-02-27  1700  5151    4"
      ]
     },
     "execution_count": 3,
     "metadata": {},
     "output_type": "execute_result"
    }
   ],
   "source": [
    "df_covid.head()"
   ]
  },
  {
   "cell_type": "markdown",
   "metadata": {},
   "source": [
    "A younger version of yourself, before having mastered Correlation and Covariance as you now have, may have had the following reasoning:\n",
    "\n",
    "    \"The covariance between MA and CA is about 23 million, which is much larger than the covariance between CA and NEU (about 4 thousand).  Therefore, I conclude that infections in MA and CA must change more consistently together than CA and NEU.\"\n",
    "\n",
    "Identify and correct your past self's interpretation mistake by offering a more principled analysis of what relationships do and don't exist in the data.\n",
    "\n",
    "To receive full credit on this question, be sure to:\n",
    "- correctly identify the thinking error:\n",
    "    - why is cov(MA, CA) > cov(CA, NEU)? \n",
    "        - (use might use your `.head()` to do some thinking!)\n",
    "    - what should we use to measure the consistency with which values change?\n",
    "- clearly explain / teach the difference so that a non-technical audience may understand\n",
    "- utilize whatever features of the python libraries we've studied you see fit to explain yourself\n",
    "\n",
    "Be clear.  Be brief.\n",
    "\n",
    "Bonus (+1 point): Hypothesize why NU's relationship to the other states is different than between MA and CA."
   ]
  },
  {
   "cell_type": "markdown",
   "metadata": {},
   "source": [
    "# Answer:"
   ]
  },
  {
   "cell_type": "markdown",
   "metadata": {},
   "source": [
    "***Thinking Error***\n",
    "cov(MA,CA) is greater than (>) cov(CA,NEU) because NEU is a smaller population when being compared to MA or CA. This means that the number of cases will be significantly smaller at NEU. MA and CA have numbers that are more comparable, rather than comparing either with NEU.\n",
    "\n",
    "***Correlation should be used to measure the consistency with which values change***\n",
    "\n",
    "The past interpretation's mistake is that just because the covariance between MA and CA is larger than that between CA and NEU, does not particularly means that the infections in MA and CA are changing together more consistently than the infections in CA and NEU. This is due to correlation being a more effective factor in telling that.\n",
    "\n",
    "Covariance shows us the direction of a linear relationship between variables, however covariance better helps us determine the strength and direction of the relationship between variables.\n",
    "\n",
    "Covariance depends on the original units we measure in, so it is not necesarily standardized.\n",
    "\n",
    "Correlation is based on standardized values and these values normalize the data scale which allows us to make the comparisons.\n",
    "\n",
    "***BONUS***\n",
    "\n",
    "NEU's relationship to the other states is different than between MA and CA because the states have different peopl ebeing tested as well as being different sizes. At Northeastern, majority of people being tested are college students, so COVID spreading may be slower or faster due to a variety of different circumstances such as partying, dorm living, classrooms, and the strict regulations in place. In contrast, a whole state includes a wider demographic such as children, adults, families, and the elderly who get tested, so the spread of COVID may look different.\n"
   ]
  },
  {
   "cell_type": "code",
   "execution_count": 4,
   "metadata": {},
   "outputs": [
    {
     "data": {
      "text/html": [
       "<div>\n",
       "<style scoped>\n",
       "    .dataframe tbody tr th:only-of-type {\n",
       "        vertical-align: middle;\n",
       "    }\n",
       "\n",
       "    .dataframe tbody tr th {\n",
       "        vertical-align: top;\n",
       "    }\n",
       "\n",
       "    .dataframe thead th {\n",
       "        text-align: right;\n",
       "    }\n",
       "</style>\n",
       "<table border=\"1\" class=\"dataframe\">\n",
       "  <thead>\n",
       "    <tr style=\"text-align: right;\">\n",
       "      <th></th>\n",
       "      <th>MA</th>\n",
       "      <th>CA</th>\n",
       "      <th>NEU</th>\n",
       "    </tr>\n",
       "  </thead>\n",
       "  <tbody>\n",
       "    <tr>\n",
       "      <th>MA</th>\n",
       "      <td>1.000000</td>\n",
       "      <td>0.813516</td>\n",
       "      <td>0.603717</td>\n",
       "    </tr>\n",
       "    <tr>\n",
       "      <th>CA</th>\n",
       "      <td>0.813516</td>\n",
       "      <td>1.000000</td>\n",
       "      <td>0.523122</td>\n",
       "    </tr>\n",
       "    <tr>\n",
       "      <th>NEU</th>\n",
       "      <td>0.603717</td>\n",
       "      <td>0.523122</td>\n",
       "      <td>1.000000</td>\n",
       "    </tr>\n",
       "  </tbody>\n",
       "</table>\n",
       "</div>"
      ],
      "text/plain": [
       "           MA        CA       NEU\n",
       "MA   1.000000  0.813516  0.603717\n",
       "CA   0.813516  1.000000  0.523122\n",
       "NEU  0.603717  0.523122  1.000000"
      ]
     },
     "execution_count": 4,
     "metadata": {},
     "output_type": "execute_result"
    }
   ],
   "source": [
    "# correlation of df_covid\n",
    "df_covid.corr()"
   ]
  },
  {
   "cell_type": "markdown",
   "metadata": {},
   "source": [
    "# Part 3: Beans!\n",
    "\n",
    "In this problem we'll use the k-Nearest Neighbor classifier to classify the species of plant that a bean comes from [a very large collection of bean image data](https://archive.ics.uci.edu/ml/datasets/Dry+Bean+Dataset).\n",
    "\n",
    "Note:\n",
    "- each subpart requires the completion of all previous sub-parts\n",
    "- the earlier subparts make scale normalization / cross validation errors on purpose\n",
    "    - these will be addressed in later parts\n",
    "- you may find it helpful to load a fresh copy of `df_bean` in parts 3.1, 3.3 and 3.4"
   ]
  },
  {
   "cell_type": "code",
   "execution_count": 5,
   "metadata": {
    "scrolled": true
   },
   "outputs": [
    {
     "data": {
      "text/html": [
       "<div>\n",
       "<style scoped>\n",
       "    .dataframe tbody tr th:only-of-type {\n",
       "        vertical-align: middle;\n",
       "    }\n",
       "\n",
       "    .dataframe tbody tr th {\n",
       "        vertical-align: top;\n",
       "    }\n",
       "\n",
       "    .dataframe thead th {\n",
       "        text-align: right;\n",
       "    }\n",
       "</style>\n",
       "<table border=\"1\" class=\"dataframe\">\n",
       "  <thead>\n",
       "    <tr style=\"text-align: right;\">\n",
       "      <th></th>\n",
       "      <th>Area</th>\n",
       "      <th>Perimeter</th>\n",
       "      <th>MajorAxisLength</th>\n",
       "      <th>MinorAxisLength</th>\n",
       "      <th>AspectRation</th>\n",
       "      <th>Eccentricity</th>\n",
       "      <th>ConvexArea</th>\n",
       "      <th>EquivDiameter</th>\n",
       "      <th>Extent</th>\n",
       "      <th>Solidity</th>\n",
       "      <th>roundness</th>\n",
       "      <th>Compactness</th>\n",
       "      <th>ShapeFactor1</th>\n",
       "      <th>ShapeFactor2</th>\n",
       "      <th>ShapeFactor3</th>\n",
       "      <th>ShapeFactor4</th>\n",
       "      <th>Class</th>\n",
       "    </tr>\n",
       "  </thead>\n",
       "  <tbody>\n",
       "    <tr>\n",
       "      <th>0</th>\n",
       "      <td>28395</td>\n",
       "      <td>610.291</td>\n",
       "      <td>208.178117</td>\n",
       "      <td>173.888747</td>\n",
       "      <td>1.197191</td>\n",
       "      <td>0.549812</td>\n",
       "      <td>28715</td>\n",
       "      <td>190.141097</td>\n",
       "      <td>0.763923</td>\n",
       "      <td>0.988856</td>\n",
       "      <td>0.958027</td>\n",
       "      <td>0.913358</td>\n",
       "      <td>0.007332</td>\n",
       "      <td>0.003147</td>\n",
       "      <td>0.834222</td>\n",
       "      <td>0.998724</td>\n",
       "      <td>SEKER</td>\n",
       "    </tr>\n",
       "    <tr>\n",
       "      <th>1</th>\n",
       "      <td>28734</td>\n",
       "      <td>638.018</td>\n",
       "      <td>200.524796</td>\n",
       "      <td>182.734419</td>\n",
       "      <td>1.097356</td>\n",
       "      <td>0.411785</td>\n",
       "      <td>29172</td>\n",
       "      <td>191.272750</td>\n",
       "      <td>0.783968</td>\n",
       "      <td>0.984986</td>\n",
       "      <td>0.887034</td>\n",
       "      <td>0.953861</td>\n",
       "      <td>0.006979</td>\n",
       "      <td>0.003564</td>\n",
       "      <td>0.909851</td>\n",
       "      <td>0.998430</td>\n",
       "      <td>SEKER</td>\n",
       "    </tr>\n",
       "    <tr>\n",
       "      <th>2</th>\n",
       "      <td>29380</td>\n",
       "      <td>624.110</td>\n",
       "      <td>212.826130</td>\n",
       "      <td>175.931143</td>\n",
       "      <td>1.209713</td>\n",
       "      <td>0.562727</td>\n",
       "      <td>29690</td>\n",
       "      <td>193.410904</td>\n",
       "      <td>0.778113</td>\n",
       "      <td>0.989559</td>\n",
       "      <td>0.947849</td>\n",
       "      <td>0.908774</td>\n",
       "      <td>0.007244</td>\n",
       "      <td>0.003048</td>\n",
       "      <td>0.825871</td>\n",
       "      <td>0.999066</td>\n",
       "      <td>SEKER</td>\n",
       "    </tr>\n",
       "    <tr>\n",
       "      <th>3</th>\n",
       "      <td>30008</td>\n",
       "      <td>645.884</td>\n",
       "      <td>210.557999</td>\n",
       "      <td>182.516516</td>\n",
       "      <td>1.153638</td>\n",
       "      <td>0.498616</td>\n",
       "      <td>30724</td>\n",
       "      <td>195.467062</td>\n",
       "      <td>0.782681</td>\n",
       "      <td>0.976696</td>\n",
       "      <td>0.903936</td>\n",
       "      <td>0.928329</td>\n",
       "      <td>0.007017</td>\n",
       "      <td>0.003215</td>\n",
       "      <td>0.861794</td>\n",
       "      <td>0.994199</td>\n",
       "      <td>SEKER</td>\n",
       "    </tr>\n",
       "    <tr>\n",
       "      <th>4</th>\n",
       "      <td>30140</td>\n",
       "      <td>620.134</td>\n",
       "      <td>201.847882</td>\n",
       "      <td>190.279279</td>\n",
       "      <td>1.060798</td>\n",
       "      <td>0.333680</td>\n",
       "      <td>30417</td>\n",
       "      <td>195.896503</td>\n",
       "      <td>0.773098</td>\n",
       "      <td>0.990893</td>\n",
       "      <td>0.984877</td>\n",
       "      <td>0.970516</td>\n",
       "      <td>0.006697</td>\n",
       "      <td>0.003665</td>\n",
       "      <td>0.941900</td>\n",
       "      <td>0.999166</td>\n",
       "      <td>SEKER</td>\n",
       "    </tr>\n",
       "  </tbody>\n",
       "</table>\n",
       "</div>"
      ],
      "text/plain": [
       "    Area  Perimeter  MajorAxisLength  MinorAxisLength  AspectRation  \\\n",
       "0  28395    610.291       208.178117       173.888747      1.197191   \n",
       "1  28734    638.018       200.524796       182.734419      1.097356   \n",
       "2  29380    624.110       212.826130       175.931143      1.209713   \n",
       "3  30008    645.884       210.557999       182.516516      1.153638   \n",
       "4  30140    620.134       201.847882       190.279279      1.060798   \n",
       "\n",
       "   Eccentricity  ConvexArea  EquivDiameter    Extent  Solidity  roundness  \\\n",
       "0      0.549812       28715     190.141097  0.763923  0.988856   0.958027   \n",
       "1      0.411785       29172     191.272750  0.783968  0.984986   0.887034   \n",
       "2      0.562727       29690     193.410904  0.778113  0.989559   0.947849   \n",
       "3      0.498616       30724     195.467062  0.782681  0.976696   0.903936   \n",
       "4      0.333680       30417     195.896503  0.773098  0.990893   0.984877   \n",
       "\n",
       "   Compactness  ShapeFactor1  ShapeFactor2  ShapeFactor3  ShapeFactor4  Class  \n",
       "0     0.913358      0.007332      0.003147      0.834222      0.998724  SEKER  \n",
       "1     0.953861      0.006979      0.003564      0.909851      0.998430  SEKER  \n",
       "2     0.908774      0.007244      0.003048      0.825871      0.999066  SEKER  \n",
       "3     0.928329      0.007017      0.003215      0.861794      0.994199  SEKER  \n",
       "4     0.970516      0.006697      0.003665      0.941900      0.999166  SEKER  "
      ]
     },
     "execution_count": 5,
     "metadata": {},
     "output_type": "execute_result"
    }
   ],
   "source": [
    "import pandas as pd\n",
    "\n",
    "df_bean = pd.read_csv('dry_bean.csv')\n",
    "\n",
    "df_bean.head()"
   ]
  },
  {
   "cell_type": "markdown",
   "metadata": {},
   "source": [
    "## Part 3.1 (10 points)\n",
    "Build a 21-Nearest Neighbor classifier which is `fit` and `predict`s on the whole dataset."
   ]
  },
  {
   "cell_type": "code",
   "execution_count": 6,
   "metadata": {},
   "outputs": [],
   "source": [
    "import numpy as np\n",
    "import seaborn as sns\n",
    "import matplotlib.pyplot as plt\n",
    "from sklearn.model_selection import StratifiedKFold\n",
    "from sklearn.metrics import confusion_matrix\n",
    "from sklearn.metrics import ConfusionMatrixDisplay\n",
    "from sklearn.neighbors import KNeighborsClassifier"
   ]
  },
  {
   "cell_type": "code",
   "execution_count": 7,
   "metadata": {},
   "outputs": [
    {
     "name": "stderr",
     "output_type": "stream",
     "text": [
      "/var/folders/32/7qdb8w1s2cb6lpfrxfk_p10w0000gn/T/ipykernel_20151/380003504.py:2: FutureWarning: Dropping of nuisance columns in DataFrame reductions (with 'numeric_only=None') is deprecated; in a future version this will raise TypeError.  Select only valid columns before calling the reduction.\n",
      "  df_bean.var()\n"
     ]
    },
    {
     "data": {
      "text/plain": [
       "Area               8.599026e+08\n",
       "Perimeter          4.592007e+04\n",
       "MajorAxisLength    7.343494e+03\n",
       "MinorAxisLength    2.022309e+03\n",
       "AspectRation       6.085026e-02\n",
       "Eccentricity       8.464324e-03\n",
       "ConvexArea         8.865456e+08\n",
       "EquivDiameter      3.501932e+03\n",
       "Extent             2.409471e-03\n",
       "Solidity           2.171913e-05\n",
       "roundness          3.542617e-03\n",
       "Compactness        3.808552e-03\n",
       "ShapeFactor1       1.272380e-06\n",
       "ShapeFactor2       3.550668e-07\n",
       "ShapeFactor3       9.800238e-03\n",
       "ShapeFactor4       1.906595e-05\n",
       "dtype: float64"
      ]
     },
     "execution_count": 7,
     "metadata": {},
     "output_type": "execute_result"
    }
   ],
   "source": [
    "# variance of df_bean without normalizing the data\n",
    "df_bean.var()"
   ]
  },
  {
   "cell_type": "code",
   "execution_count": 8,
   "metadata": {},
   "outputs": [],
   "source": [
    "# KNN Classifier with k = 21 and data not normalized\n",
    "\n",
    "# set k\n",
    "k = 21\n",
    "\n",
    "# divide data into X (features) and y (labels) arrays\n",
    "x_feat_list = ['Area', \n",
    "               'Perimeter', \n",
    "               'MajorAxisLength', \n",
    "               'MinorAxisLength',\n",
    "               'AspectRation',\n",
    "               'Eccentricity', \n",
    "               'ConvexArea', \n",
    "               'EquivDiameter', \n",
    "               'Extent',\n",
    "               'Solidity', \n",
    "               'roundness', \n",
    "               'Compactness', \n",
    "               'ShapeFactor1', \n",
    "               'ShapeFactor2',\n",
    "               'ShapeFactor3', \n",
    "               'ShapeFactor4']\n",
    "y_feat = 'Class'\n",
    "x = df_bean.loc[:, x_feat_list].values\n",
    "y_true = df_bean.loc[:, y_feat].values\n",
    "\n",
    "# initialize a knn_classifier\n",
    "knn_classifier = KNeighborsClassifier(n_neighbors=k)\n",
    "\n",
    "# initialize kfold\n",
    "kfold = StratifiedKFold(n_splits=10)\n",
    "\n",
    "# initialize y_pred to store predictions of y\n",
    "y_pred = np.empty_like(y_true)\n",
    "\n",
    "# loop through each train_idx and test_idx\n",
    "for train_idx, test_idx in kfold.split(x, y_true):\n",
    "    \n",
    "    # index to split training data\n",
    "    x_train = x[train_idx, :]\n",
    "    y_train = y_true[train_idx]\n",
    "    \n",
    "    # index to split test data\n",
    "    x_test = x[test_idx, :]\n",
    "    y_test = y_true[test_idx]\n",
    "\n",
    "    # fit happens \"inplace\", we modify the \n",
    "    # internal state of knn_classifier to \n",
    "    # remember all the training samples\n",
    "    knn_classifier.fit(x_train, y_train)\n",
    "\n",
    "    # predict\n",
    "    y_pred[test_idx] = knn_classifier.predict(x_test)"
   ]
  },
  {
   "cell_type": "markdown",
   "metadata": {},
   "source": [
    "## Part 3.2 (10 points)\n",
    "Plot the confusion matrix which results from this dataset.  \n",
    "\n",
    "Using the confusion matrix, identify the bean mostly commonly misclassified by\n",
    "- explicitly computing its accuracy\n",
    "- telling which other bean it is most commonly mistaken for\n",
    "\n",
    "Your response should be one or two sentences."
   ]
  },
  {
   "cell_type": "code",
   "execution_count": 9,
   "metadata": {},
   "outputs": [
    {
     "data": {
      "image/png": "[encoded data removed]",
      "text/plain": [
       "<Figure size 720x720 with 2 Axes>"
      ]
     },
     "metadata": {
      "needs_background": "light"
     },
     "output_type": "display_data"
    }
   ],
   "source": [
    "# not normalized data confusion matrix\n",
    "\n",
    "# build and plot confusion matrix\n",
    "conf_mat = confusion_matrix(y_true=y_true, y_pred=y_pred)\n",
    "conf_mat_disp = ConfusionMatrixDisplay(conf_mat, display_labels=np.unique(y_true))\n",
    "conf_mat_disp.plot()\n",
    "\n",
    "# set scales and labels\n",
    "sns.set(font_scale=0.8)\n",
    "plt.title('K=21 NN Classifier')\n",
    "plt.gcf().set_size_inches(10, 10)\n",
    "plt.grid(False)"
   ]
  },
  {
   "cell_type": "code",
   "execution_count": 10,
   "metadata": {},
   "outputs": [
    {
     "name": "stdout",
     "output_type": "stream",
     "text": [
      "18.881786790096243\n"
     ]
    }
   ],
   "source": [
    "# compute the accuracy of the classifiers\n",
    "accuracy = np.diag(conf_mat).sum() / conf_mat.sum() * 100\n",
    "    \n",
    "print(accuracy)"
   ]
  },
  {
   "cell_type": "markdown",
   "metadata": {},
   "source": [
    "## 3.2 Most commonly misclassified bean:\n",
    "The bean most commonly misclassified is the DERMASON bean predicted to be the SEKER bean.\n",
    "The accuracy of the classifier is 18.8818.\n",
    "There are 1745 beans misclassified as SEKER beans when they are actually DERMASON beans."
   ]
  },
  {
   "cell_type": "markdown",
   "metadata": {},
   "source": [
    "## Part 3.3 (10 points)\n",
    "In a few sentences, describe how the scale of the data may be causing issues in the classifier's performance.  (Hint: see class notes on scale normalization).  Explicitly compute the variance of the raw `df_bean` dataset and refer to it in your explanation.\n",
    "\n",
    "Repeat (i.e. copy/paste) parts 3.1 and 3.2, but add in a fix for this scaling problem."
   ]
  },
  {
   "cell_type": "code",
   "execution_count": 11,
   "metadata": {
    "scrolled": true
   },
   "outputs": [
    {
     "data": {
      "text/html": [
       "<div>\n",
       "<style scoped>\n",
       "    .dataframe tbody tr th:only-of-type {\n",
       "        vertical-align: middle;\n",
       "    }\n",
       "\n",
       "    .dataframe tbody tr th {\n",
       "        vertical-align: top;\n",
       "    }\n",
       "\n",
       "    .dataframe thead th {\n",
       "        text-align: right;\n",
       "    }\n",
       "</style>\n",
       "<table border=\"1\" class=\"dataframe\">\n",
       "  <thead>\n",
       "    <tr style=\"text-align: right;\">\n",
       "      <th></th>\n",
       "      <th>Area</th>\n",
       "      <th>Perimeter</th>\n",
       "      <th>MajorAxisLength</th>\n",
       "      <th>MinorAxisLength</th>\n",
       "      <th>AspectRation</th>\n",
       "      <th>Eccentricity</th>\n",
       "      <th>ConvexArea</th>\n",
       "      <th>EquivDiameter</th>\n",
       "      <th>Extent</th>\n",
       "      <th>Solidity</th>\n",
       "      <th>roundness</th>\n",
       "      <th>Compactness</th>\n",
       "      <th>ShapeFactor1</th>\n",
       "      <th>ShapeFactor2</th>\n",
       "      <th>ShapeFactor3</th>\n",
       "      <th>ShapeFactor4</th>\n",
       "      <th>Class</th>\n",
       "    </tr>\n",
       "  </thead>\n",
       "  <tbody>\n",
       "    <tr>\n",
       "      <th>0</th>\n",
       "      <td>28395</td>\n",
       "      <td>610.291</td>\n",
       "      <td>208.178117</td>\n",
       "      <td>173.888747</td>\n",
       "      <td>1.197191</td>\n",
       "      <td>0.549812</td>\n",
       "      <td>28715</td>\n",
       "      <td>190.141097</td>\n",
       "      <td>0.763923</td>\n",
       "      <td>0.988856</td>\n",
       "      <td>0.958027</td>\n",
       "      <td>0.913358</td>\n",
       "      <td>0.007332</td>\n",
       "      <td>0.003147</td>\n",
       "      <td>0.834222</td>\n",
       "      <td>0.998724</td>\n",
       "      <td>SEKER</td>\n",
       "    </tr>\n",
       "    <tr>\n",
       "      <th>1</th>\n",
       "      <td>28734</td>\n",
       "      <td>638.018</td>\n",
       "      <td>200.524796</td>\n",
       "      <td>182.734419</td>\n",
       "      <td>1.097356</td>\n",
       "      <td>0.411785</td>\n",
       "      <td>29172</td>\n",
       "      <td>191.272750</td>\n",
       "      <td>0.783968</td>\n",
       "      <td>0.984986</td>\n",
       "      <td>0.887034</td>\n",
       "      <td>0.953861</td>\n",
       "      <td>0.006979</td>\n",
       "      <td>0.003564</td>\n",
       "      <td>0.909851</td>\n",
       "      <td>0.998430</td>\n",
       "      <td>SEKER</td>\n",
       "    </tr>\n",
       "    <tr>\n",
       "      <th>2</th>\n",
       "      <td>29380</td>\n",
       "      <td>624.110</td>\n",
       "      <td>212.826130</td>\n",
       "      <td>175.931143</td>\n",
       "      <td>1.209713</td>\n",
       "      <td>0.562727</td>\n",
       "      <td>29690</td>\n",
       "      <td>193.410904</td>\n",
       "      <td>0.778113</td>\n",
       "      <td>0.989559</td>\n",
       "      <td>0.947849</td>\n",
       "      <td>0.908774</td>\n",
       "      <td>0.007244</td>\n",
       "      <td>0.003048</td>\n",
       "      <td>0.825871</td>\n",
       "      <td>0.999066</td>\n",
       "      <td>SEKER</td>\n",
       "    </tr>\n",
       "    <tr>\n",
       "      <th>3</th>\n",
       "      <td>30008</td>\n",
       "      <td>645.884</td>\n",
       "      <td>210.557999</td>\n",
       "      <td>182.516516</td>\n",
       "      <td>1.153638</td>\n",
       "      <td>0.498616</td>\n",
       "      <td>30724</td>\n",
       "      <td>195.467062</td>\n",
       "      <td>0.782681</td>\n",
       "      <td>0.976696</td>\n",
       "      <td>0.903936</td>\n",
       "      <td>0.928329</td>\n",
       "      <td>0.007017</td>\n",
       "      <td>0.003215</td>\n",
       "      <td>0.861794</td>\n",
       "      <td>0.994199</td>\n",
       "      <td>SEKER</td>\n",
       "    </tr>\n",
       "    <tr>\n",
       "      <th>4</th>\n",
       "      <td>30140</td>\n",
       "      <td>620.134</td>\n",
       "      <td>201.847882</td>\n",
       "      <td>190.279279</td>\n",
       "      <td>1.060798</td>\n",
       "      <td>0.333680</td>\n",
       "      <td>30417</td>\n",
       "      <td>195.896503</td>\n",
       "      <td>0.773098</td>\n",
       "      <td>0.990893</td>\n",
       "      <td>0.984877</td>\n",
       "      <td>0.970516</td>\n",
       "      <td>0.006697</td>\n",
       "      <td>0.003665</td>\n",
       "      <td>0.941900</td>\n",
       "      <td>0.999166</td>\n",
       "      <td>SEKER</td>\n",
       "    </tr>\n",
       "  </tbody>\n",
       "</table>\n",
       "</div>"
      ],
      "text/plain": [
       "    Area  Perimeter  MajorAxisLength  MinorAxisLength  AspectRation  \\\n",
       "0  28395    610.291       208.178117       173.888747      1.197191   \n",
       "1  28734    638.018       200.524796       182.734419      1.097356   \n",
       "2  29380    624.110       212.826130       175.931143      1.209713   \n",
       "3  30008    645.884       210.557999       182.516516      1.153638   \n",
       "4  30140    620.134       201.847882       190.279279      1.060798   \n",
       "\n",
       "   Eccentricity  ConvexArea  EquivDiameter    Extent  Solidity  roundness  \\\n",
       "0      0.549812       28715     190.141097  0.763923  0.988856   0.958027   \n",
       "1      0.411785       29172     191.272750  0.783968  0.984986   0.887034   \n",
       "2      0.562727       29690     193.410904  0.778113  0.989559   0.947849   \n",
       "3      0.498616       30724     195.467062  0.782681  0.976696   0.903936   \n",
       "4      0.333680       30417     195.896503  0.773098  0.990893   0.984877   \n",
       "\n",
       "   Compactness  ShapeFactor1  ShapeFactor2  ShapeFactor3  ShapeFactor4  Class  \n",
       "0     0.913358      0.007332      0.003147      0.834222      0.998724  SEKER  \n",
       "1     0.953861      0.006979      0.003564      0.909851      0.998430  SEKER  \n",
       "2     0.908774      0.007244      0.003048      0.825871      0.999066  SEKER  \n",
       "3     0.928329      0.007017      0.003215      0.861794      0.994199  SEKER  \n",
       "4     0.970516      0.006697      0.003665      0.941900      0.999166  SEKER  "
      ]
     },
     "execution_count": 11,
     "metadata": {},
     "output_type": "execute_result"
    }
   ],
   "source": [
    "import pandas as pd\n",
    "\n",
    "df_bean = pd.read_csv('dry_bean.csv')\n",
    "\n",
    "df_bean.head()"
   ]
  },
  {
   "cell_type": "code",
   "execution_count": 12,
   "metadata": {},
   "outputs": [],
   "source": [
    "# drop NaN columns\n",
    "df_bean.dropna(how='any', inplace=True)\n",
    "\n",
    "# normalize data\n",
    "for feat in df_bean.columns:\n",
    "    if feat == 'Class':\n",
    "        continue\n",
    "    df_bean[feat] = df_bean[feat] / df_bean[feat].std()"
   ]
  },
  {
   "cell_type": "markdown",
   "metadata": {},
   "source": []
  },
  {
   "cell_type": "code",
   "execution_count": 13,
   "metadata": {
    "scrolled": false
   },
   "outputs": [
    {
     "name": "stderr",
     "output_type": "stream",
     "text": [
      "/var/folders/32/7qdb8w1s2cb6lpfrxfk_p10w0000gn/T/ipykernel_20151/3457826031.py:2: FutureWarning: Dropping of nuisance columns in DataFrame reductions (with 'numeric_only=None') is deprecated; in a future version this will raise TypeError.  Select only valid columns before calling the reduction.\n",
      "  df_bean.var()\n"
     ]
    },
    {
     "data": {
      "text/plain": [
       "Area               1.0\n",
       "Perimeter          1.0\n",
       "MajorAxisLength    1.0\n",
       "MinorAxisLength    1.0\n",
       "AspectRation       1.0\n",
       "Eccentricity       1.0\n",
       "ConvexArea         1.0\n",
       "EquivDiameter      1.0\n",
       "Extent             1.0\n",
       "Solidity           1.0\n",
       "roundness          1.0\n",
       "Compactness        1.0\n",
       "ShapeFactor1       1.0\n",
       "ShapeFactor2       1.0\n",
       "ShapeFactor3       1.0\n",
       "ShapeFactor4       1.0\n",
       "dtype: float64"
      ]
     },
     "execution_count": 13,
     "metadata": {},
     "output_type": "execute_result"
    }
   ],
   "source": [
    "# variance of df_bean with normalizing the data\n",
    "df_bean.var()"
   ]
  },
  {
   "cell_type": "code",
   "execution_count": 14,
   "metadata": {},
   "outputs": [],
   "source": [
    "# KNN Classifier with k = 21 and data normalized\n",
    "\n",
    "# set k\n",
    "k = 21\n",
    "\n",
    "# divide data into X (features) and y (labels) arrays\n",
    "x_feat_list = ['Area', \n",
    "               'Perimeter', \n",
    "               'MajorAxisLength', \n",
    "               'MinorAxisLength',\n",
    "               'AspectRation',\n",
    "               'Eccentricity', \n",
    "               'ConvexArea', \n",
    "               'EquivDiameter', \n",
    "               'Extent',\n",
    "               'Solidity', \n",
    "               'roundness', \n",
    "               'Compactness', \n",
    "               'ShapeFactor1', \n",
    "               'ShapeFactor2',\n",
    "               'ShapeFactor3', \n",
    "               'ShapeFactor4']\n",
    "y_feat = 'Class'\n",
    "x = df_bean.loc[:, x_feat_list].values\n",
    "y_true = df_bean.loc[:, y_feat].values\n",
    "\n",
    "# initialize a knn_classifier\n",
    "knn_classifier = KNeighborsClassifier(n_neighbors=k)\n",
    "\n",
    "# initialize kfold\n",
    "kfold = StratifiedKFold(n_splits=10, shuffle=True)\n",
    "\n",
    "# initialize y_pred to store predictions of y\n",
    "y_pred = np.empty_like(y_true)\n",
    "\n",
    "# loop through each train_idx and test_idx\n",
    "for train_idx, test_idx in kfold.split(x, y_true):\n",
    "    \n",
    "    # index to split training data\n",
    "    x_train = x[train_idx, :]\n",
    "    y_train = y_true[train_idx]\n",
    "    \n",
    "    # index to split test data\n",
    "    x_test = x[test_idx, :]\n",
    "    y_test = y_true[test_idx]\n",
    "\n",
    "    # fit happens \"inplace\", we modify the \n",
    "    # internal state of knn_classifier to \n",
    "    # remember all the training samples\n",
    "    knn_classifier.fit(x_train, y_train)\n",
    "\n",
    "    # predict\n",
    "    y_pred[test_idx] = knn_classifier.predict(x_test)"
   ]
  },
  {
   "cell_type": "code",
   "execution_count": 15,
   "metadata": {
    "scrolled": true
   },
   "outputs": [
    {
     "data": {
      "image/png": "[encoded data removed]",
      "text/plain": [
       "<Figure size 432x432 with 2 Axes>"
      ]
     },
     "metadata": {},
     "output_type": "display_data"
    }
   ],
   "source": [
    "# normalized data confusion matrix\n",
    "\n",
    "# build and plot confusion matrix\n",
    "conf_mat = confusion_matrix(y_true=y_true, y_pred=y_pred)\n",
    "conf_mat_disp = ConfusionMatrixDisplay(conf_mat, display_labels=np.unique(y_true))\n",
    "conf_mat_disp.plot()\n",
    "\n",
    "# set scales and labels\n",
    "sns.set(font_scale=0.8)\n",
    "plt.title('K=21 NN Classifier')\n",
    "plt.gcf().set_size_inches(6, 6)\n",
    "plt.grid(False)\n"
   ]
  },
  {
   "cell_type": "code",
   "execution_count": 16,
   "metadata": {},
   "outputs": [
    {
     "name": "stdout",
     "output_type": "stream",
     "text": [
      "92.41789728895746\n"
     ]
    }
   ],
   "source": [
    "# compute the accuracy of the classifiers\n",
    "accuracy = np.diag(conf_mat).sum() / conf_mat.sum() * 100\n",
    "    \n",
    "print(accuracy)"
   ]
  },
  {
   "cell_type": "markdown",
   "metadata": {},
   "source": [
    "## Part 3.4 (10 points)\n",
    "In a few sentences, describe how the confusion matrix shown in part 3.3 may overstate how accurate the classifier would be in predicting the species of some new bean.  (Hint: see class notes on cross validation).  Update the code of part 3.3 to resolve this issue."
   ]
  },
  {
   "cell_type": "markdown",
   "metadata": {},
   "source": [
    "### Answer: \n",
    "\n",
    "This confusion matrix may overstate how accurate the classifier would be in predicting \n",
    "the species of some new bean because there is potential to be too accurate if there \n",
    "are no inccurate prediction to true labels. We trained the classifier and predicted with the classifier\n",
    "with the same data. So, the nearest neighbor would just be the point itself. To ensure that each \n",
    "training set represetns all target groups, we can pass the shuffle=True parameter to the constructor\n",
    "of Kfold so that the data is shuffled before the training. As stated in the notes:\n",
    "\"This cross-validation object is a variation of KFold that returns stratified folds. The folds are made by \n",
    " preserving the percentage of samples for each class.\""
   ]
  }
 ],
 "metadata": {
  "kernelspec": {
   "display_name": "Python 3 (ipykernel)",
   "language": "python",
   "name": "python3"
  },
  "language_info": {
   "codemirror_mode": {
    "name": "ipython",
    "version": 3
   },
   "file_extension": ".py",
   "mimetype": "text/x-python",
   "name": "python",
   "nbconvert_exporter": "python",
   "pygments_lexer": "ipython3",
   "version": "3.8.10"
  }
 },
 "nbformat": 4,
 "nbformat_minor": 4
}
